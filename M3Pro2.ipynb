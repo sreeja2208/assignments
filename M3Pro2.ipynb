{
  "nbformat": 4,
  "nbformat_minor": 0,
  "metadata": {
    "colab": {
      "name": "M3Pro2.ipynb",
      "provenance": [],
      "collapsed_sections": [],
      "authorship_tag": "ABX9TyO4woxG4PnV3CkmsNgOCS+e",
      "include_colab_link": true
    },
    "kernelspec": {
      "name": "python3",
      "display_name": "Python 3"
    },
    "language_info": {
      "name": "python"
    }
  },
  "cells": [
    {
      "cell_type": "markdown",
      "metadata": {
        "id": "view-in-github",
        "colab_type": "text"
      },
      "source": [
        "<a href=\"https://colab.research.google.com/github/sreeja2208/assignments/blob/main/M3Pro2.ipynb\" target=\"_parent\"><img src=\"https://colab.research.google.com/assets/colab-badge.svg\" alt=\"Open In Colab\"/></a>"
      ]
    },
    {
      "cell_type": "code",
      "execution_count": 1,
      "metadata": {
        "id": "iakZJ7VyT7el"
      },
      "outputs": [],
      "source": [
        "#linear classification"
      ]
    },
    {
      "cell_type": "code",
      "source": [
        "import numpy as np\n",
        "import pandas as pd\n",
        "import matplotlib.pyplot as plt\n",
        "\n",
        "from sklearn import datasets"
      ],
      "metadata": {
        "id": "Nk6o4fD6UD7J"
      },
      "execution_count": 2,
      "outputs": []
    },
    {
      "cell_type": "code",
      "source": [
        "#creating datsets for this exercise\n",
        "x,y,p=datasets.make_blobs(n_samples=150,n_features=2,centers=2,cluster_std=1.05,return_centers=True)\n",
        "print(p)"
      ],
      "metadata": {
        "colab": {
          "base_uri": "https://localhost:8080/"
        },
        "id": "4qfRr2-3dc9A",
        "outputId": "de752dc9-801a-4e51-f3d6-c6e241b2f01e"
      },
      "execution_count": 3,
      "outputs": [
        {
          "output_type": "stream",
          "name": "stdout",
          "text": [
            "[[-3.58890771  4.122707  ]\n",
            " [ 8.22622952 -3.17671164]]\n"
          ]
        }
      ]
    },
    {
      "cell_type": "markdown",
      "source": [
        "**NOTE:** Above dataset is not in augmented form, bias term have not been added initially to the dataset. Hence, you have to preprocess the data or make the necessary changes in the algorithm."
      ],
      "metadata": {
        "id": "mQV0YfFpPMzK"
      }
    },
    {
      "cell_type": "code",
      "source": [
        "#plotting\n",
        "fig=plt.figure(figsize=(10,8))\n",
        "plt.plot(x[:,0][y==0],x[:,1][y==0],'r^')\n",
        "plt.plot(x[:,0][y==1],x[:,1][y==1],'b^')\n",
        "plt.xlabel(\"feature 1\")\n",
        "plt.ylabel(\"feature 2\")\n",
        "plt.title(\"Random Classification Data with 2 classes\")"
      ],
      "metadata": {
        "colab": {
          "base_uri": "https://localhost:8080/",
          "height": 530
        },
        "id": "_xXZU7_ceD06",
        "outputId": "8b274917-acf6-496d-8e28-6d9af81f9ec6"
      },
      "execution_count": 4,
      "outputs": [
        {
          "output_type": "execute_result",
          "data": {
            "text/plain": [
              "Text(0.5, 1.0, 'Random Classification Data with 2 classes')"
            ]
          },
          "metadata": {},
          "execution_count": 4
        },
        {
          "output_type": "display_data",
          "data": {
            "text/plain": [
              "<Figure size 720x576 with 1 Axes>"
            ],
            "image/png": "[encoded data removed]"
          },
          "metadata": {
            "needs_background": "light"
          }
        }
      ]
    },
    {
      "cell_type": "markdown",
      "source": [
        "Try to revise the perceptron algorithm taught to you. Look at the lab notebook to revise the code shown.\n",
        "\n",
        "Let's start with sign function..!!<br>\n",
        "![step function](https://miro.medium.com/max/692/1*sSxVjxnTEvGQTSHASOD68Q.png)"
      ],
      "metadata": {
        "id": "9qKw2AM1g0GC"
      }
    },
    {
      "cell_type": "code",
      "source": [
        "## TASK 1: Write code for sign function (also called as step function)\n",
        "def sign_func(z):\n",
        "  if(z<=0):\n",
        "    return 0\n",
        "  else:\n",
        "    return 1  "
      ],
      "metadata": {
        "id": "7ijABaSOfKfF"
      },
      "execution_count": 5,
      "outputs": []
    },
    {
      "cell_type": "markdown",
      "source": [
        "Now, let's complete the perceptron update function.\n",
        "\n",
        "Update rule is shown below for revision:<br>\n",
        "![Perceptron update rule](https://miro.medium.com/max/605/1*E-GGbrUh1IQQGk9kmbG4OA.png)"
      ],
      "metadata": {
        "id": "CUBPoVjbjQxj"
      }
    },
    {
      "cell_type": "code",
      "source": [
        "## Task : Try to write code which can handle all the possible values of d (or number of features in dataset)\n",
        "\n",
        "def perceptron(X, y, lr, epochs):\n",
        "    '''\n",
        "    INPUT:\n",
        "    X --> Inputs.\n",
        "    y --> labels/target.\n",
        "    lr --> learning rate.\n",
        "    epochs --> Number of iterations.\n",
        "    \n",
        "    OUTPUT:\n",
        "    theta --> coefficeints vector\n",
        "    '''\n",
        "    \n",
        "    # m-> number of training examples\n",
        "    # n-> number of features \n",
        "    m, n = X.shape\n",
        "    \n",
        "    # TASK 2 : Initilaize theta vector which would include the bias value\n",
        "    # Correct the value of d \n",
        "    d = n\n",
        "    theta = np.zeros((d))\n",
        "    \n",
        "    # TASK 3: Complete the training part\n",
        "    # Make sure to balance the dataset as it doesn't have bias term\n",
        "    for epoch in range(epochs):\n",
        "      for i,j in enumerate(x):\n",
        "        if (np.dot(x[i], theta) * y[i]) <= 0:\n",
        "                theta += lr * x[i] * y[i]\n",
        "        \n",
        "    return theta"
      ],
      "metadata": {
        "id": "v0ElIKkrfb_E"
      },
      "execution_count": 36,
      "outputs": []
    },
    {
      "cell_type": "code",
      "source": [
        "# Task : Writing plot decision boundary to actually show the final result\n",
        "\n",
        "def plot_decision_boundary(X, theta):\n",
        "    '''\n",
        "    INPUT:\n",
        "    X --> Inputs\n",
        "    theta --> parameters\n",
        "    \n",
        "    OUTPUT:\n",
        "    Return nothing.\n",
        "    But should plot a figure showing datapoints and the hyperplane of decision boundary\n",
        "    '''\n",
        "\n",
        "    # Steps to find some kind of endpoints of the decision boundary to plot them\n",
        "    # The Line is y=mx+c\n",
        "    # So, Equate mx+c = theta0.X0 + theta1.X1 + theta2.X2\n",
        "    # Solving we find m and c\n",
        "    # TASK 4: Find m and c as shown above. Correct the value of m and c.\n",
        "    x1 = [min(X[:,0]), max(X[:,0])]\n",
        "    m = theta\n",
        "    c = 25\n",
        "    x2 = m*x1 + c\n",
        "    \n",
        "    # Plotting\n",
        "    fig = plt.figure(figsize=(10,8))\n",
        "    plt.plot(X[:, 0][y==0], X[:, 1][y==0], \"r^\")\n",
        "    plt.plot(X[:, 0][y==1], X[:, 1][y==1], \"bs\")\n",
        "    plt.xlabel(\"feature 1\")\n",
        "    plt.ylabel(\"feature 2\")\n",
        "    plt.title(\"Perceptron Algorithm\")\n",
        "    # Plotting the decision boundary as well\n",
        "    plt.plot(x1, x2, 'y-')"
      ],
      "metadata": {
        "id": "F6xJo_jWhhpR"
      },
      "execution_count": 37,
      "outputs": []
    },
    {
      "cell_type": "code",
      "source": [
        "# Final output\n",
        "theta = perceptron(x, y, 0.5, 100)\n",
        "plot_decision_boundary(x, theta)"
      ],
      "metadata": {
        "id": "f_wt86O_jCDB",
        "colab": {
          "base_uri": "https://localhost:8080/",
          "height": 513
        },
        "outputId": "daee211d-97cc-490a-b5c1-8976d22276b9"
      },
      "execution_count": 38,
      "outputs": [
        {
          "output_type": "display_data",
          "data": {
            "text/plain": [
              "<Figure size 720x576 with 1 Axes>"
            ],
            "image/png": "[encoded data removed]"
          },
          "metadata": {
            "needs_background": "light"
          }
        }
      ]
    },
    {
      "cell_type": "markdown",
      "source": [
        "#### Things to check upon:\n",
        "- Here, we have dealt with datasets which has only 2 features. Try to run your code on that case also. (You can plot 3 dimesnional dataset as well and corresponding decision boundary, look for that as well). Since your function should work for any numbere of features. So, running it directly should not be a problem.\n",
        "- There are cases when dataset might not be linearly seperable because of the random dataset generation. You can fix your datstet using *random_state* parameter to be used in *datasets.amke_blob()* function."
      ],
      "metadata": {
        "id": "F8WCnyuQMu7s"
      }
    },
    {
      "cell_type": "code",
      "source": [
        ""
      ],
      "metadata": {
        "id": "B4uE9UUNjTcu"
      },
      "execution_count": null,
      "outputs": []
    }
  ]
}