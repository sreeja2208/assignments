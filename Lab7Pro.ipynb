{
  "nbformat": 4,
  "nbformat_minor": 0,
  "metadata": {
    "colab": {
      "name": "Lab7Pro.ipynb",
      "provenance": [],
      "collapsed_sections": [],
      "authorship_tag": "ABX9TyPfNoA1S5RrLFyeLIuuAr6S",
      "include_colab_link": true
    },
    "kernelspec": {
      "name": "python3",
      "display_name": "Python 3"
    },
    "language_info": {
      "name": "python"
    }
  },
  "cells": [
    {
      "cell_type": "markdown",
      "metadata": {
        "id": "view-in-github",
        "colab_type": "text"
      },
      "source": [
        "<a href=\"https://colab.research.google.com/github/sreeja2208/assignments/blob/main/Lab7Pro.ipynb\" target=\"_parent\"><img src=\"https://colab.research.google.com/assets/colab-badge.svg\" alt=\"Open In Colab\"/></a>"
      ]
    },
    {
      "cell_type": "code",
      "source": [
        "#lecture 7 project"
      ],
      "metadata": {
        "id": "3RdzCHhGmS63"
      },
      "execution_count": 1,
      "outputs": []
    },
    {
      "cell_type": "markdown",
      "metadata": {
        "id": "TCXFmefqVzRP"
      },
      "source": [
        "# **Support Vector Machines Classifier** \n",
        "\n",
        "Hello friends,\n",
        "\n",
        "Support Vector Machines (SVMs in short) are supervised machine learning algorithms that are used for classification and regression purposes. In this kernel, we are going to build a Support Vector Machines classifier to classify a Pulsar star. The dataset used for this project is **Predicting a Pulsar Star**. \n",
        "\n",
        "So, let's get started."
      ]
    },
    {
      "cell_type": "markdown",
      "metadata": {
        "id": "E8OzGWacVzRU"
      },
      "source": [
        "#  Dataset description<a class=\"anchor\" id=\"5\"></a>\n",
        "\n",
        "\n",
        "\n",
        "I have used the **Predicting a Pulsar Star** dataset for this project.\n",
        "\n",
        "Pulsars are a rare type of Neutron star that produce radio emission detectable here on Earth. They are of considerable scientific interest as probes of space-time, the inter-stellar medium, and states of matter. Classification algorithms in particular are being adopted, which treat the data sets as binary classification problems. Here the legitimate pulsar examples form  minority positive class and spurious examples form the majority negative class.\n",
        "\n",
        "The data set shared here contains 16,259 spurious examples caused by RFI/noise, and 1,639 real pulsar examples. Each row lists the variables first, and the class label is the final entry. The class labels used are 0 (negative) and 1 (positive).\n",
        "\n",
        "\n",
        "### Attribute Information:\n",
        "\n",
        "\n",
        "Each candidate is described by 8 continuous variables, and a single class variable. The first four are simple statistics obtained from the integrated pulse profile. The remaining four variables are similarly obtained from the DM-SNR curve . These are summarised below:\n",
        "\n",
        "1. Mean of the integrated profile.\n",
        "\n",
        "2. Standard deviation of the integrated profile.\n",
        "\n",
        "3. Excess kurtosis of the integrated profile.\n",
        "\n",
        "4. Skewness of the integrated profile.\n",
        "\n",
        "5. Mean of the DM-SNR curve.\n",
        "\n",
        "6. Standard deviation of the DM-SNR curve.\n",
        "\n",
        "7. Excess kurtosis of the DM-SNR curve.\n",
        "\n",
        "8. Skewness of the DM-SNR curve.\n",
        "\n",
        "9. Class"
      ]
    },
    {
      "cell_type": "code",
      "source": [
        "import numpy as np\n",
        "import pandas as pd\n",
        "import matplotlib.pyplot as plt\n",
        "import seaborn as sns"
      ],
      "metadata": {
        "id": "zK5RphTtmcBD"
      },
      "execution_count": 2,
      "outputs": []
    },
    {
      "cell_type": "code",
      "source": [
        "df=pd.read_csv('/content/pulsar_stars.csv')"
      ],
      "metadata": {
        "id": "6i_7W7jEmvbJ"
      },
      "execution_count": 3,
      "outputs": []
    },
    {
      "cell_type": "code",
      "source": [
        "df.shape"
      ],
      "metadata": {
        "colab": {
          "base_uri": "https://localhost:8080/"
        },
        "id": "x3ysfr7Joszx",
        "outputId": "fa4db821-a64f-4649-8ee1-b0967e462457"
      },
      "execution_count": 4,
      "outputs": [
        {
          "output_type": "execute_result",
          "data": {
            "text/plain": [
              "(17898, 9)"
            ]
          },
          "metadata": {},
          "execution_count": 4
        }
      ]
    },
    {
      "cell_type": "code",
      "source": [
        "df.head()"
      ],
      "metadata": {
        "colab": {
          "base_uri": "https://localhost:8080/",
          "height": 302
        },
        "id": "P4OTH-h-owex",
        "outputId": "c3c2db0d-008e-462f-84b1-0a156282dbcf"
      },
      "execution_count": 5,
      "outputs": [
        {
          "output_type": "execute_result",
          "data": {
            "text/plain": [
              "     Mean of the integrated profile  \\\n",
              "0                        140.562500   \n",
              "1                        102.507812   \n",
              "2                        103.015625   \n",
              "3                        136.750000   \n",
              "4                         88.726562   \n",
              "\n",
              "   Standard deviation of the integrated profile  \\\n",
              "0                                     55.683782   \n",
              "1                                     58.882430   \n",
              "2                                     39.341649   \n",
              "3                                     57.178449   \n",
              "4                                     40.672225   \n",
              "\n",
              "   Excess kurtosis of the integrated profile  \\\n",
              "0                                  -0.234571   \n",
              "1                                   0.465318   \n",
              "2                                   0.323328   \n",
              "3                                  -0.068415   \n",
              "4                                   0.600866   \n",
              "\n",
              "   Skewness of the integrated profile  Mean of the DM-SNR curve  \\\n",
              "0                           -0.699648                  3.199833   \n",
              "1                           -0.515088                  1.677258   \n",
              "2                            1.051164                  3.121237   \n",
              "3                           -0.636238                  3.642977   \n",
              "4                            1.123492                  1.178930   \n",
              "\n",
              "   Standard deviation of the DM-SNR curve  \\\n",
              "0                               19.110426   \n",
              "1                               14.860146   \n",
              "2                               21.744669   \n",
              "3                               20.959280   \n",
              "4                               11.468720   \n",
              "\n",
              "   Excess kurtosis of the DM-SNR curve  Skewness of the DM-SNR curve  \\\n",
              "0                             7.975532                     74.242225   \n",
              "1                            10.576487                    127.393580   \n",
              "2                             7.735822                     63.171909   \n",
              "3                             6.896499                     53.593661   \n",
              "4                            14.269573                    252.567306   \n",
              "\n",
              "   Target_class  \n",
              "0             0  \n",
              "1             0  \n",
              "2             0  \n",
              "3             0  \n",
              "4             0  "
            ],
            "text/html": [
              "\n",
              "  <div id=\"df-21da7754-4d65-4bd8-80e9-5aebd9cc526f\">\n",
              "    <div class=\"colab-df-container\">\n",
              "      <div>\n",
              "<style scoped>\n",
              "    .dataframe tbody tr th:only-of-type {\n",
              "        vertical-align: middle;\n",
              "    }\n",
              "\n",
              "    .dataframe tbody tr th {\n",
              "        vertical-align: top;\n",
              "    }\n",
              "\n",
              "    .dataframe thead th {\n",
              "        text-align: right;\n",
              "    }\n",
              "</style>\n",
              "<table border=\"1\" class=\"dataframe\">\n",
              "  <thead>\n",
              "    <tr style=\"text-align: right;\">\n",
              "      <th></th>\n",
              "      <th>Mean of the integrated profile</th>\n",
              "      <th>Standard deviation of the integrated profile</th>\n",
              "      <th>Excess kurtosis of the integrated profile</th>\n",
              "      <th>Skewness of the integrated profile</th>\n",
              "      <th>Mean of the DM-SNR curve</th>\n",
              "      <th>Standard deviation of the DM-SNR curve</th>\n",
              "      <th>Excess kurtosis of the DM-SNR curve</th>\n",
              "      <th>Skewness of the DM-SNR curve</th>\n",
              "      <th>Target_class</th>\n",
              "    </tr>\n",
              "  </thead>\n",
              "  <tbody>\n",
              "    <tr>\n",
              "      <th>0</th>\n",
              "      <td>140.562500</td>\n",
              "      <td>55.683782</td>\n",
              "      <td>-0.234571</td>\n",
              "      <td>-0.699648</td>\n",
              "      <td>3.199833</td>\n",
              "      <td>19.110426</td>\n",
              "      <td>7.975532</td>\n",
              "      <td>74.242225</td>\n",
              "      <td>0</td>\n",
              "    </tr>\n",
              "    <tr>\n",
              "      <th>1</th>\n",
              "      <td>102.507812</td>\n",
              "      <td>58.882430</td>\n",
              "      <td>0.465318</td>\n",
              "      <td>-0.515088</td>\n",
              "      <td>1.677258</td>\n",
              "      <td>14.860146</td>\n",
              "      <td>10.576487</td>\n",
              "      <td>127.393580</td>\n",
              "      <td>0</td>\n",
              "    </tr>\n",
              "    <tr>\n",
              "      <th>2</th>\n",
              "      <td>103.015625</td>\n",
              "      <td>39.341649</td>\n",
              "      <td>0.323328</td>\n",
              "      <td>1.051164</td>\n",
              "      <td>3.121237</td>\n",
              "      <td>21.744669</td>\n",
              "      <td>7.735822</td>\n",
              "      <td>63.171909</td>\n",
              "      <td>0</td>\n",
              "    </tr>\n",
              "    <tr>\n",
              "      <th>3</th>\n",
              "      <td>136.750000</td>\n",
              "      <td>57.178449</td>\n",
              "      <td>-0.068415</td>\n",
              "      <td>-0.636238</td>\n",
              "      <td>3.642977</td>\n",
              "      <td>20.959280</td>\n",
              "      <td>6.896499</td>\n",
              "      <td>53.593661</td>\n",
              "      <td>0</td>\n",
              "    </tr>\n",
              "    <tr>\n",
              "      <th>4</th>\n",
              "      <td>88.726562</td>\n",
              "      <td>40.672225</td>\n",
              "      <td>0.600866</td>\n",
              "      <td>1.123492</td>\n",
              "      <td>1.178930</td>\n",
              "      <td>11.468720</td>\n",
              "      <td>14.269573</td>\n",
              "      <td>252.567306</td>\n",
              "      <td>0</td>\n",
              "    </tr>\n",
              "  </tbody>\n",
              "</table>\n",
              "</div>\n",
              "      <button class=\"colab-df-convert\" onclick=\"convertToInteractive('df-21da7754-4d65-4bd8-80e9-5aebd9cc526f')\"\n",
              "              title=\"Convert this dataframe to an interactive table.\"\n",
              "              style=\"display:none;\">\n",
              "        \n",
              "  <svg xmlns=\"http://www.w3.org/2000/svg\" height=\"24px\"viewBox=\"0 0 24 24\"\n",
              "       width=\"24px\">\n",
              "    <path d=\"M0 0h24v24H0V0z\" fill=\"none\"/>\n",
              "    <path d=\"M18.56 5.44l.94 2.06.94-2.06 2.06-.94-2.06-.94-.94-2.06-.94 2.06-2.06.94zm-11 1L8.5 8.5l.94-2.06 2.06-.94-2.06-.94L8.5 2.5l-.94 2.06-2.06.94zm10 10l.94 2.06.94-2.06 2.06-.94-2.06-.94-.94-2.06-.94 2.06-2.06.94z\"/><path d=\"M17.41 7.96l-1.37-1.37c-.4-.4-.92-.59-1.43-.59-.52 0-1.04.2-1.43.59L10.3 9.45l-7.72 7.72c-.78.78-.78 2.05 0 2.83L4 21.41c.39.39.9.59 1.41.59.51 0 1.02-.2 1.41-.59l7.78-7.78 2.81-2.81c.8-.78.8-2.07 0-2.86zM5.41 20L4 18.59l7.72-7.72 1.47 1.35L5.41 20z\"/>\n",
              "  </svg>\n",
              "      </button>\n",
              "      \n",
              "  <style>\n",
              "    .colab-df-container {\n",
              "      display:flex;\n",
              "      flex-wrap:wrap;\n",
              "      gap: 12px;\n",
              "    }\n",
              "\n",
              "    .colab-df-convert {\n",
              "      background-color: #E8F0FE;\n",
              "      border: none;\n",
              "      border-radius: 50%;\n",
              "      cursor: pointer;\n",
              "      display: none;\n",
              "      fill: #1967D2;\n",
              "      height: 32px;\n",
              "      padding: 0 0 0 0;\n",
              "      width: 32px;\n",
              "    }\n",
              "\n",
              "    .colab-df-convert:hover {\n",
              "      background-color: #E2EBFA;\n",
              "      box-shadow: 0px 1px 2px rgba(60, 64, 67, 0.3), 0px 1px 3px 1px rgba(60, 64, 67, 0.15);\n",
              "      fill: #174EA6;\n",
              "    }\n",
              "\n",
              "    [theme=dark] .colab-df-convert {\n",
              "      background-color: #3B4455;\n",
              "      fill: #D2E3FC;\n",
              "    }\n",
              "\n",
              "    [theme=dark] .colab-df-convert:hover {\n",
              "      background-color: #434B5C;\n",
              "      box-shadow: 0px 1px 3px 1px rgba(0, 0, 0, 0.15);\n",
              "      filter: drop-shadow(0px 1px 2px rgba(0, 0, 0, 0.3));\n",
              "      fill: #FFFFFF;\n",
              "    }\n",
              "  </style>\n",
              "\n",
              "      <script>\n",
              "        const buttonEl =\n",
              "          document.querySelector('#df-21da7754-4d65-4bd8-80e9-5aebd9cc526f button.colab-df-convert');\n",
              "        buttonEl.style.display =\n",
              "          google.colab.kernel.accessAllowed ? 'block' : 'none';\n",
              "\n",
              "        async function convertToInteractive(key) {\n",
              "          const element = document.querySelector('#df-21da7754-4d65-4bd8-80e9-5aebd9cc526f');\n",
              "          const dataTable =\n",
              "            await google.colab.kernel.invokeFunction('convertToInteractive',\n",
              "                                                     [key], {});\n",
              "          if (!dataTable) return;\n",
              "\n",
              "          const docLinkHtml = 'Like what you see? Visit the ' +\n",
              "            '<a target=\"_blank\" href=https://colab.research.google.com/notebooks/data_table.ipynb>data table notebook</a>'\n",
              "            + ' to learn more about interactive tables.';\n",
              "          element.innerHTML = '';\n",
              "          dataTable['output_type'] = 'display_data';\n",
              "          await google.colab.output.renderOutput(dataTable, element);\n",
              "          const docLink = document.createElement('div');\n",
              "          docLink.innerHTML = docLinkHtml;\n",
              "          element.appendChild(docLink);\n",
              "        }\n",
              "      </script>\n",
              "    </div>\n",
              "  </div>\n",
              "  "
            ]
          },
          "metadata": {},
          "execution_count": 5
        }
      ]
    },
    {
      "cell_type": "markdown",
      "metadata": {
        "id": "5FnHB5P8VzRb"
      },
      "source": [
        "We can see that there are 9 variables in the dataset. 8 are continuous variables and 1 is discrete variable. The discrete variable is `target_class` variable. It is also the target variable.\n",
        "\n",
        "\n",
        "Now, I will view the column names to check for leading and trailing spaces."
      ]
    },
    {
      "cell_type": "code",
      "source": [
        "col_names=df.columns\n",
        "col_names"
      ],
      "metadata": {
        "colab": {
          "base_uri": "https://localhost:8080/"
        },
        "id": "qn28xQW9o27_",
        "outputId": "2013d2a7-dd22-454b-a588-323dca4a3eba"
      },
      "execution_count": 6,
      "outputs": [
        {
          "output_type": "execute_result",
          "data": {
            "text/plain": [
              "Index(['  Mean of the integrated profile',\n",
              "       'Standard deviation of the integrated profile',\n",
              "       'Excess kurtosis of the integrated profile',\n",
              "       'Skewness of the integrated profile', 'Mean of the DM-SNR curve',\n",
              "       'Standard deviation of the DM-SNR curve',\n",
              "       'Excess kurtosis of the DM-SNR curve', 'Skewness of the DM-SNR curve',\n",
              "       'Target_class'],\n",
              "      dtype='object')"
            ]
          },
          "metadata": {},
          "execution_count": 6
        }
      ]
    },
    {
      "cell_type": "markdown",
      "metadata": {
        "id": "Z6qeVQ2lVzRc"
      },
      "source": [
        "We can see that there are leading spaces (spaces at the start of the string name) in the dataframe. So, I will remove these leading spaces."
      ]
    },
    {
      "cell_type": "code",
      "source": [
        "df.columns=df.columns.str.strip()"
      ],
      "metadata": {
        "id": "IoNnhOEipDb5"
      },
      "execution_count": 7,
      "outputs": []
    },
    {
      "cell_type": "code",
      "source": [
        "df.columns"
      ],
      "metadata": {
        "colab": {
          "base_uri": "https://localhost:8080/"
        },
        "id": "ia4F7oHwpIgJ",
        "outputId": "0ab7ebda-0725-4d88-bd70-5b172fb6b4dd"
      },
      "execution_count": 8,
      "outputs": [
        {
          "output_type": "execute_result",
          "data": {
            "text/plain": [
              "Index(['Mean of the integrated profile',\n",
              "       'Standard deviation of the integrated profile',\n",
              "       'Excess kurtosis of the integrated profile',\n",
              "       'Skewness of the integrated profile', 'Mean of the DM-SNR curve',\n",
              "       'Standard deviation of the DM-SNR curve',\n",
              "       'Excess kurtosis of the DM-SNR curve', 'Skewness of the DM-SNR curve',\n",
              "       'Target_class'],\n",
              "      dtype='object')"
            ]
          },
          "metadata": {},
          "execution_count": 8
        }
      ]
    },
    {
      "cell_type": "markdown",
      "metadata": {
        "id": "COzp4k6jVzRd"
      },
      "source": [
        "We can see that the leading spaces are removed from the column name. But the column names are very long. So, I will make them short by renaming them."
      ]
    },
    {
      "cell_type": "code",
      "source": [
        "df.columns=['IP mean','IP sd','IP kurtosis','IP skewness','DM-SNR mean','DM-SNR sd','DM-SNR kurtosis','DM-SNR skewness','target_class']"
      ],
      "metadata": {
        "id": "HblsKnvrpe3p"
      },
      "execution_count": 9,
      "outputs": []
    },
    {
      "cell_type": "code",
      "source": [
        "df.columns"
      ],
      "metadata": {
        "colab": {
          "base_uri": "https://localhost:8080/"
        },
        "id": "G2YywHtfqIBg",
        "outputId": "572f4ceb-a863-472f-e0fa-e5466d15e1b1"
      },
      "execution_count": 10,
      "outputs": [
        {
          "output_type": "execute_result",
          "data": {
            "text/plain": [
              "Index(['IP mean', 'IP sd', 'IP kurtosis', 'IP skewness', 'DM-SNR mean',\n",
              "       'DM-SNR sd', 'DM-SNR kurtosis', 'DM-SNR skewness', 'target_class'],\n",
              "      dtype='object')"
            ]
          },
          "metadata": {},
          "execution_count": 10
        }
      ]
    },
    {
      "cell_type": "markdown",
      "metadata": {
        "id": "N-deGsseVzRe"
      },
      "source": [
        "We can see that the column names are shortened. IP stands for `integrated profile` and DM-SNR stands for `delta modulation and signal to noise ratio`. Now, it is much more easy to work with the columns."
      ]
    },
    {
      "cell_type": "markdown",
      "metadata": {
        "id": "de9Ai_plVzRe"
      },
      "source": [
        "Our target variable is the `target_class` column. So, I will check its distribution."
      ]
    },
    {
      "cell_type": "code",
      "source": [
        "df['target_class'].value_counts()"
      ],
      "metadata": {
        "colab": {
          "base_uri": "https://localhost:8080/"
        },
        "id": "VZuOXtRvqeAM",
        "outputId": "74f1f05d-7a0a-408a-aea0-5694d4f3debf"
      },
      "execution_count": 11,
      "outputs": [
        {
          "output_type": "execute_result",
          "data": {
            "text/plain": [
              "0    16259\n",
              "1     1639\n",
              "Name: target_class, dtype: int64"
            ]
          },
          "metadata": {},
          "execution_count": 11
        }
      ]
    },
    {
      "cell_type": "code",
      "source": [
        "df['target_class'].value_counts()/np.float(len(df))"
      ],
      "metadata": {
        "colab": {
          "base_uri": "https://localhost:8080/"
        },
        "id": "D8SSMNicqkcY",
        "outputId": "3cfee788-2b2b-4518-da36-18bf4a27d426"
      },
      "execution_count": 12,
      "outputs": [
        {
          "output_type": "stream",
          "name": "stderr",
          "text": [
            "/usr/local/lib/python3.7/dist-packages/ipykernel_launcher.py:1: DeprecationWarning: `np.float` is a deprecated alias for the builtin `float`. To silence this warning, use `float` by itself. Doing this will not modify any behavior and is safe. If you specifically wanted the numpy scalar type, use `np.float64` here.\n",
            "Deprecated in NumPy 1.20; for more details and guidance: https://numpy.org/devdocs/release/1.20.0-notes.html#deprecations\n",
            "  \"\"\"Entry point for launching an IPython kernel.\n"
          ]
        },
        {
          "output_type": "execute_result",
          "data": {
            "text/plain": [
              "0    0.908426\n",
              "1    0.091574\n",
              "Name: target_class, dtype: float64"
            ]
          },
          "metadata": {},
          "execution_count": 12
        }
      ]
    },
    {
      "cell_type": "markdown",
      "metadata": {
        "id": "mE_OokUuVzRe"
      },
      "source": [
        "We can see that percentage of observations of the class label `0` and `1` is 90.84% and 9.16%. So, this is a class imbalanced problem. I will deal with that in later section."
      ]
    },
    {
      "cell_type": "code",
      "source": [
        "df.info()"
      ],
      "metadata": {
        "colab": {
          "base_uri": "https://localhost:8080/"
        },
        "id": "BCa8Stjzq5pb",
        "outputId": "f71e0661-b875-43eb-cf3a-0646783065f1"
      },
      "execution_count": 13,
      "outputs": [
        {
          "output_type": "stream",
          "name": "stdout",
          "text": [
            "<class 'pandas.core.frame.DataFrame'>\n",
            "RangeIndex: 17898 entries, 0 to 17897\n",
            "Data columns (total 9 columns):\n",
            " #   Column           Non-Null Count  Dtype  \n",
            "---  ------           --------------  -----  \n",
            " 0   IP mean          17898 non-null  float64\n",
            " 1   IP sd            17898 non-null  float64\n",
            " 2   IP kurtosis      17898 non-null  float64\n",
            " 3   IP skewness      17898 non-null  float64\n",
            " 4   DM-SNR mean      17898 non-null  float64\n",
            " 5   DM-SNR sd        17898 non-null  float64\n",
            " 6   DM-SNR kurtosis  17898 non-null  float64\n",
            " 7   DM-SNR skewness  17898 non-null  float64\n",
            " 8   target_class     17898 non-null  int64  \n",
            "dtypes: float64(8), int64(1)\n",
            "memory usage: 1.2 MB\n"
          ]
        }
      ]
    },
    {
      "cell_type": "code",
      "source": [
        "df.isnull().sum()"
      ],
      "metadata": {
        "colab": {
          "base_uri": "https://localhost:8080/"
        },
        "id": "HHAHV7qFq8zV",
        "outputId": "e9502b2d-35f4-45e1-e0e8-576b8f9e62e5"
      },
      "execution_count": 14,
      "outputs": [
        {
          "output_type": "execute_result",
          "data": {
            "text/plain": [
              "IP mean            0\n",
              "IP sd              0\n",
              "IP kurtosis        0\n",
              "IP skewness        0\n",
              "DM-SNR mean        0\n",
              "DM-SNR sd          0\n",
              "DM-SNR kurtosis    0\n",
              "DM-SNR skewness    0\n",
              "target_class       0\n",
              "dtype: int64"
            ]
          },
          "metadata": {},
          "execution_count": 14
        }
      ]
    },
    {
      "cell_type": "code",
      "source": [
        "round(df.describe(),2)"
      ],
      "metadata": {
        "colab": {
          "base_uri": "https://localhost:8080/",
          "height": 300
        },
        "id": "xuck8R-HrE7h",
        "outputId": "48423360-8f9a-4180-c70b-9047083c77a2"
      },
      "execution_count": 15,
      "outputs": [
        {
          "output_type": "execute_result",
          "data": {
            "text/plain": [
              "        IP mean     IP sd  IP kurtosis  IP skewness  DM-SNR mean  DM-SNR sd  \\\n",
              "count  17898.00  17898.00     17898.00     17898.00     17898.00   17898.00   \n",
              "mean     111.08     46.55         0.48         1.77        12.61      26.33   \n",
              "std       25.65      6.84         1.06         6.17        29.47      19.47   \n",
              "min        5.81     24.77        -1.88        -1.79         0.21       7.37   \n",
              "25%      100.93     42.38         0.03        -0.19         1.92      14.44   \n",
              "50%      115.08     46.95         0.22         0.20         2.80      18.46   \n",
              "75%      127.09     51.02         0.47         0.93         5.46      28.43   \n",
              "max      192.62     98.78         8.07        68.10       223.39     110.64   \n",
              "\n",
              "       DM-SNR kurtosis  DM-SNR skewness  target_class  \n",
              "count         17898.00         17898.00      17898.00  \n",
              "mean              8.30           104.86          0.09  \n",
              "std               4.51           106.51          0.29  \n",
              "min              -3.14            -1.98          0.00  \n",
              "25%               5.78            34.96          0.00  \n",
              "50%               8.43            83.06          0.00  \n",
              "75%              10.70           139.31          0.00  \n",
              "max              34.54          1191.00          1.00  "
            ],
            "text/html": [
              "\n",
              "  <div id=\"df-326d9047-57b9-48e2-9a71-f9ea784477ae\">\n",
              "    <div class=\"colab-df-container\">\n",
              "      <div>\n",
              "<style scoped>\n",
              "    .dataframe tbody tr th:only-of-type {\n",
              "        vertical-align: middle;\n",
              "    }\n",
              "\n",
              "    .dataframe tbody tr th {\n",
              "        vertical-align: top;\n",
              "    }\n",
              "\n",
              "    .dataframe thead th {\n",
              "        text-align: right;\n",
              "    }\n",
              "</style>\n",
              "<table border=\"1\" class=\"dataframe\">\n",
              "  <thead>\n",
              "    <tr style=\"text-align: right;\">\n",
              "      <th></th>\n",
              "      <th>IP mean</th>\n",
              "      <th>IP sd</th>\n",
              "      <th>IP kurtosis</th>\n",
              "      <th>IP skewness</th>\n",
              "      <th>DM-SNR mean</th>\n",
              "      <th>DM-SNR sd</th>\n",
              "      <th>DM-SNR kurtosis</th>\n",
              "      <th>DM-SNR skewness</th>\n",
              "      <th>target_class</th>\n",
              "    </tr>\n",
              "  </thead>\n",
              "  <tbody>\n",
              "    <tr>\n",
              "      <th>count</th>\n",
              "      <td>17898.00</td>\n",
              "      <td>17898.00</td>\n",
              "      <td>17898.00</td>\n",
              "      <td>17898.00</td>\n",
              "      <td>17898.00</td>\n",
              "      <td>17898.00</td>\n",
              "      <td>17898.00</td>\n",
              "      <td>17898.00</td>\n",
              "      <td>17898.00</td>\n",
              "    </tr>\n",
              "    <tr>\n",
              "      <th>mean</th>\n",
              "      <td>111.08</td>\n",
              "      <td>46.55</td>\n",
              "      <td>0.48</td>\n",
              "      <td>1.77</td>\n",
              "      <td>12.61</td>\n",
              "      <td>26.33</td>\n",
              "      <td>8.30</td>\n",
              "      <td>104.86</td>\n",
              "      <td>0.09</td>\n",
              "    </tr>\n",
              "    <tr>\n",
              "      <th>std</th>\n",
              "      <td>25.65</td>\n",
              "      <td>6.84</td>\n",
              "      <td>1.06</td>\n",
              "      <td>6.17</td>\n",
              "      <td>29.47</td>\n",
              "      <td>19.47</td>\n",
              "      <td>4.51</td>\n",
              "      <td>106.51</td>\n",
              "      <td>0.29</td>\n",
              "    </tr>\n",
              "    <tr>\n",
              "      <th>min</th>\n",
              "      <td>5.81</td>\n",
              "      <td>24.77</td>\n",
              "      <td>-1.88</td>\n",
              "      <td>-1.79</td>\n",
              "      <td>0.21</td>\n",
              "      <td>7.37</td>\n",
              "      <td>-3.14</td>\n",
              "      <td>-1.98</td>\n",
              "      <td>0.00</td>\n",
              "    </tr>\n",
              "    <tr>\n",
              "      <th>25%</th>\n",
              "      <td>100.93</td>\n",
              "      <td>42.38</td>\n",
              "      <td>0.03</td>\n",
              "      <td>-0.19</td>\n",
              "      <td>1.92</td>\n",
              "      <td>14.44</td>\n",
              "      <td>5.78</td>\n",
              "      <td>34.96</td>\n",
              "      <td>0.00</td>\n",
              "    </tr>\n",
              "    <tr>\n",
              "      <th>50%</th>\n",
              "      <td>115.08</td>\n",
              "      <td>46.95</td>\n",
              "      <td>0.22</td>\n",
              "      <td>0.20</td>\n",
              "      <td>2.80</td>\n",
              "      <td>18.46</td>\n",
              "      <td>8.43</td>\n",
              "      <td>83.06</td>\n",
              "      <td>0.00</td>\n",
              "    </tr>\n",
              "    <tr>\n",
              "      <th>75%</th>\n",
              "      <td>127.09</td>\n",
              "      <td>51.02</td>\n",
              "      <td>0.47</td>\n",
              "      <td>0.93</td>\n",
              "      <td>5.46</td>\n",
              "      <td>28.43</td>\n",
              "      <td>10.70</td>\n",
              "      <td>139.31</td>\n",
              "      <td>0.00</td>\n",
              "    </tr>\n",
              "    <tr>\n",
              "      <th>max</th>\n",
              "      <td>192.62</td>\n",
              "      <td>98.78</td>\n",
              "      <td>8.07</td>\n",
              "      <td>68.10</td>\n",
              "      <td>223.39</td>\n",
              "      <td>110.64</td>\n",
              "      <td>34.54</td>\n",
              "      <td>1191.00</td>\n",
              "      <td>1.00</td>\n",
              "    </tr>\n",
              "  </tbody>\n",
              "</table>\n",
              "</div>\n",
              "      <button class=\"colab-df-convert\" onclick=\"convertToInteractive('df-326d9047-57b9-48e2-9a71-f9ea784477ae')\"\n",
              "              title=\"Convert this dataframe to an interactive table.\"\n",
              "              style=\"display:none;\">\n",
              "        \n",
              "  <svg xmlns=\"http://www.w3.org/2000/svg\" height=\"24px\"viewBox=\"0 0 24 24\"\n",
              "       width=\"24px\">\n",
              "    <path d=\"M0 0h24v24H0V0z\" fill=\"none\"/>\n",
              "    <path d=\"M18.56 5.44l.94 2.06.94-2.06 2.06-.94-2.06-.94-.94-2.06-.94 2.06-2.06.94zm-11 1L8.5 8.5l.94-2.06 2.06-.94-2.06-.94L8.5 2.5l-.94 2.06-2.06.94zm10 10l.94 2.06.94-2.06 2.06-.94-2.06-.94-.94-2.06-.94 2.06-2.06.94z\"/><path d=\"M17.41 7.96l-1.37-1.37c-.4-.4-.92-.59-1.43-.59-.52 0-1.04.2-1.43.59L10.3 9.45l-7.72 7.72c-.78.78-.78 2.05 0 2.83L4 21.41c.39.39.9.59 1.41.59.51 0 1.02-.2 1.41-.59l7.78-7.78 2.81-2.81c.8-.78.8-2.07 0-2.86zM5.41 20L4 18.59l7.72-7.72 1.47 1.35L5.41 20z\"/>\n",
              "  </svg>\n",
              "      </button>\n",
              "      \n",
              "  <style>\n",
              "    .colab-df-container {\n",
              "      display:flex;\n",
              "      flex-wrap:wrap;\n",
              "      gap: 12px;\n",
              "    }\n",
              "\n",
              "    .colab-df-convert {\n",
              "      background-color: #E8F0FE;\n",
              "      border: none;\n",
              "      border-radius: 50%;\n",
              "      cursor: pointer;\n",
              "      display: none;\n",
              "      fill: #1967D2;\n",
              "      height: 32px;\n",
              "      padding: 0 0 0 0;\n",
              "      width: 32px;\n",
              "    }\n",
              "\n",
              "    .colab-df-convert:hover {\n",
              "      background-color: #E2EBFA;\n",
              "      box-shadow: 0px 1px 2px rgba(60, 64, 67, 0.3), 0px 1px 3px 1px rgba(60, 64, 67, 0.15);\n",
              "      fill: #174EA6;\n",
              "    }\n",
              "\n",
              "    [theme=dark] .colab-df-convert {\n",
              "      background-color: #3B4455;\n",
              "      fill: #D2E3FC;\n",
              "    }\n",
              "\n",
              "    [theme=dark] .colab-df-convert:hover {\n",
              "      background-color: #434B5C;\n",
              "      box-shadow: 0px 1px 3px 1px rgba(0, 0, 0, 0.15);\n",
              "      filter: drop-shadow(0px 1px 2px rgba(0, 0, 0, 0.3));\n",
              "      fill: #FFFFFF;\n",
              "    }\n",
              "  </style>\n",
              "\n",
              "      <script>\n",
              "        const buttonEl =\n",
              "          document.querySelector('#df-326d9047-57b9-48e2-9a71-f9ea784477ae button.colab-df-convert');\n",
              "        buttonEl.style.display =\n",
              "          google.colab.kernel.accessAllowed ? 'block' : 'none';\n",
              "\n",
              "        async function convertToInteractive(key) {\n",
              "          const element = document.querySelector('#df-326d9047-57b9-48e2-9a71-f9ea784477ae');\n",
              "          const dataTable =\n",
              "            await google.colab.kernel.invokeFunction('convertToInteractive',\n",
              "                                                     [key], {});\n",
              "          if (!dataTable) return;\n",
              "\n",
              "          const docLinkHtml = 'Like what you see? Visit the ' +\n",
              "            '<a target=\"_blank\" href=https://colab.research.google.com/notebooks/data_table.ipynb>data table notebook</a>'\n",
              "            + ' to learn more about interactive tables.';\n",
              "          element.innerHTML = '';\n",
              "          dataTable['output_type'] = 'display_data';\n",
              "          await google.colab.output.renderOutput(dataTable, element);\n",
              "          const docLink = document.createElement('div');\n",
              "          docLink.innerHTML = docLinkHtml;\n",
              "          element.appendChild(docLink);\n",
              "        }\n",
              "      </script>\n",
              "    </div>\n",
              "  </div>\n",
              "  "
            ]
          },
          "metadata": {},
          "execution_count": 15
        }
      ]
    },
    {
      "cell_type": "code",
      "source": [
        "df.describe()"
      ],
      "metadata": {
        "colab": {
          "base_uri": "https://localhost:8080/",
          "height": 300
        },
        "id": "K5KxkXPJrWxR",
        "outputId": "2a8139a9-ccce-4334-f554-feac10267a33"
      },
      "execution_count": 16,
      "outputs": [
        {
          "output_type": "execute_result",
          "data": {
            "text/plain": [
              "            IP mean         IP sd   IP kurtosis   IP skewness   DM-SNR mean  \\\n",
              "count  17898.000000  17898.000000  17898.000000  17898.000000  17898.000000   \n",
              "mean     111.079968     46.549532      0.477857      1.770279     12.614400   \n",
              "std       25.652935      6.843189      1.064040      6.167913     29.472897   \n",
              "min        5.812500     24.772042     -1.876011     -1.791886      0.213211   \n",
              "25%      100.929688     42.376018      0.027098     -0.188572      1.923077   \n",
              "50%      115.078125     46.947479      0.223240      0.198710      2.801839   \n",
              "75%      127.085938     51.023202      0.473325      0.927783      5.464256   \n",
              "max      192.617188     98.778911      8.069522     68.101622    223.392141   \n",
              "\n",
              "          DM-SNR sd  DM-SNR kurtosis  DM-SNR skewness  target_class  \n",
              "count  17898.000000     17898.000000     17898.000000  17898.000000  \n",
              "mean      26.326515         8.303556       104.857709      0.091574  \n",
              "std       19.470572         4.506092       106.514540      0.288432  \n",
              "min        7.370432        -3.139270        -1.976976      0.000000  \n",
              "25%       14.437332         5.781506        34.960504      0.000000  \n",
              "50%       18.461316         8.433515        83.064556      0.000000  \n",
              "75%       28.428104        10.702959       139.309330      0.000000  \n",
              "max      110.642211        34.539844      1191.000837      1.000000  "
            ],
            "text/html": [
              "\n",
              "  <div id=\"df-3a4c8029-1df2-4d1d-93e2-60c560477eca\">\n",
              "    <div class=\"colab-df-container\">\n",
              "      <div>\n",
              "<style scoped>\n",
              "    .dataframe tbody tr th:only-of-type {\n",
              "        vertical-align: middle;\n",
              "    }\n",
              "\n",
              "    .dataframe tbody tr th {\n",
              "        vertical-align: top;\n",
              "    }\n",
              "\n",
              "    .dataframe thead th {\n",
              "        text-align: right;\n",
              "    }\n",
              "</style>\n",
              "<table border=\"1\" class=\"dataframe\">\n",
              "  <thead>\n",
              "    <tr style=\"text-align: right;\">\n",
              "      <th></th>\n",
              "      <th>IP mean</th>\n",
              "      <th>IP sd</th>\n",
              "      <th>IP kurtosis</th>\n",
              "      <th>IP skewness</th>\n",
              "      <th>DM-SNR mean</th>\n",
              "      <th>DM-SNR sd</th>\n",
              "      <th>DM-SNR kurtosis</th>\n",
              "      <th>DM-SNR skewness</th>\n",
              "      <th>target_class</th>\n",
              "    </tr>\n",
              "  </thead>\n",
              "  <tbody>\n",
              "    <tr>\n",
              "      <th>count</th>\n",
              "      <td>17898.000000</td>\n",
              "      <td>17898.000000</td>\n",
              "      <td>17898.000000</td>\n",
              "      <td>17898.000000</td>\n",
              "      <td>17898.000000</td>\n",
              "      <td>17898.000000</td>\n",
              "      <td>17898.000000</td>\n",
              "      <td>17898.000000</td>\n",
              "      <td>17898.000000</td>\n",
              "    </tr>\n",
              "    <tr>\n",
              "      <th>mean</th>\n",
              "      <td>111.079968</td>\n",
              "      <td>46.549532</td>\n",
              "      <td>0.477857</td>\n",
              "      <td>1.770279</td>\n",
              "      <td>12.614400</td>\n",
              "      <td>26.326515</td>\n",
              "      <td>8.303556</td>\n",
              "      <td>104.857709</td>\n",
              "      <td>0.091574</td>\n",
              "    </tr>\n",
              "    <tr>\n",
              "      <th>std</th>\n",
              "      <td>25.652935</td>\n",
              "      <td>6.843189</td>\n",
              "      <td>1.064040</td>\n",
              "      <td>6.167913</td>\n",
              "      <td>29.472897</td>\n",
              "      <td>19.470572</td>\n",
              "      <td>4.506092</td>\n",
              "      <td>106.514540</td>\n",
              "      <td>0.288432</td>\n",
              "    </tr>\n",
              "    <tr>\n",
              "      <th>min</th>\n",
              "      <td>5.812500</td>\n",
              "      <td>24.772042</td>\n",
              "      <td>-1.876011</td>\n",
              "      <td>-1.791886</td>\n",
              "      <td>0.213211</td>\n",
              "      <td>7.370432</td>\n",
              "      <td>-3.139270</td>\n",
              "      <td>-1.976976</td>\n",
              "      <td>0.000000</td>\n",
              "    </tr>\n",
              "    <tr>\n",
              "      <th>25%</th>\n",
              "      <td>100.929688</td>\n",
              "      <td>42.376018</td>\n",
              "      <td>0.027098</td>\n",
              "      <td>-0.188572</td>\n",
              "      <td>1.923077</td>\n",
              "      <td>14.437332</td>\n",
              "      <td>5.781506</td>\n",
              "      <td>34.960504</td>\n",
              "      <td>0.000000</td>\n",
              "    </tr>\n",
              "    <tr>\n",
              "      <th>50%</th>\n",
              "      <td>115.078125</td>\n",
              "      <td>46.947479</td>\n",
              "      <td>0.223240</td>\n",
              "      <td>0.198710</td>\n",
              "      <td>2.801839</td>\n",
              "      <td>18.461316</td>\n",
              "      <td>8.433515</td>\n",
              "      <td>83.064556</td>\n",
              "      <td>0.000000</td>\n",
              "    </tr>\n",
              "    <tr>\n",
              "      <th>75%</th>\n",
              "      <td>127.085938</td>\n",
              "      <td>51.023202</td>\n",
              "      <td>0.473325</td>\n",
              "      <td>0.927783</td>\n",
              "      <td>5.464256</td>\n",
              "      <td>28.428104</td>\n",
              "      <td>10.702959</td>\n",
              "      <td>139.309330</td>\n",
              "      <td>0.000000</td>\n",
              "    </tr>\n",
              "    <tr>\n",
              "      <th>max</th>\n",
              "      <td>192.617188</td>\n",
              "      <td>98.778911</td>\n",
              "      <td>8.069522</td>\n",
              "      <td>68.101622</td>\n",
              "      <td>223.392141</td>\n",
              "      <td>110.642211</td>\n",
              "      <td>34.539844</td>\n",
              "      <td>1191.000837</td>\n",
              "      <td>1.000000</td>\n",
              "    </tr>\n",
              "  </tbody>\n",
              "</table>\n",
              "</div>\n",
              "      <button class=\"colab-df-convert\" onclick=\"convertToInteractive('df-3a4c8029-1df2-4d1d-93e2-60c560477eca')\"\n",
              "              title=\"Convert this dataframe to an interactive table.\"\n",
              "              style=\"display:none;\">\n",
              "        \n",
              "  <svg xmlns=\"http://www.w3.org/2000/svg\" height=\"24px\"viewBox=\"0 0 24 24\"\n",
              "       width=\"24px\">\n",
              "    <path d=\"M0 0h24v24H0V0z\" fill=\"none\"/>\n",
              "    <path d=\"M18.56 5.44l.94 2.06.94-2.06 2.06-.94-2.06-.94-.94-2.06-.94 2.06-2.06.94zm-11 1L8.5 8.5l.94-2.06 2.06-.94-2.06-.94L8.5 2.5l-.94 2.06-2.06.94zm10 10l.94 2.06.94-2.06 2.06-.94-2.06-.94-.94-2.06-.94 2.06-2.06.94z\"/><path d=\"M17.41 7.96l-1.37-1.37c-.4-.4-.92-.59-1.43-.59-.52 0-1.04.2-1.43.59L10.3 9.45l-7.72 7.72c-.78.78-.78 2.05 0 2.83L4 21.41c.39.39.9.59 1.41.59.51 0 1.02-.2 1.41-.59l7.78-7.78 2.81-2.81c.8-.78.8-2.07 0-2.86zM5.41 20L4 18.59l7.72-7.72 1.47 1.35L5.41 20z\"/>\n",
              "  </svg>\n",
              "      </button>\n",
              "      \n",
              "  <style>\n",
              "    .colab-df-container {\n",
              "      display:flex;\n",
              "      flex-wrap:wrap;\n",
              "      gap: 12px;\n",
              "    }\n",
              "\n",
              "    .colab-df-convert {\n",
              "      background-color: #E8F0FE;\n",
              "      border: none;\n",
              "      border-radius: 50%;\n",
              "      cursor: pointer;\n",
              "      display: none;\n",
              "      fill: #1967D2;\n",
              "      height: 32px;\n",
              "      padding: 0 0 0 0;\n",
              "      width: 32px;\n",
              "    }\n",
              "\n",
              "    .colab-df-convert:hover {\n",
              "      background-color: #E2EBFA;\n",
              "      box-shadow: 0px 1px 2px rgba(60, 64, 67, 0.3), 0px 1px 3px 1px rgba(60, 64, 67, 0.15);\n",
              "      fill: #174EA6;\n",
              "    }\n",
              "\n",
              "    [theme=dark] .colab-df-convert {\n",
              "      background-color: #3B4455;\n",
              "      fill: #D2E3FC;\n",
              "    }\n",
              "\n",
              "    [theme=dark] .colab-df-convert:hover {\n",
              "      background-color: #434B5C;\n",
              "      box-shadow: 0px 1px 3px 1px rgba(0, 0, 0, 0.15);\n",
              "      filter: drop-shadow(0px 1px 2px rgba(0, 0, 0, 0.3));\n",
              "      fill: #FFFFFF;\n",
              "    }\n",
              "  </style>\n",
              "\n",
              "      <script>\n",
              "        const buttonEl =\n",
              "          document.querySelector('#df-3a4c8029-1df2-4d1d-93e2-60c560477eca button.colab-df-convert');\n",
              "        buttonEl.style.display =\n",
              "          google.colab.kernel.accessAllowed ? 'block' : 'none';\n",
              "\n",
              "        async function convertToInteractive(key) {\n",
              "          const element = document.querySelector('#df-3a4c8029-1df2-4d1d-93e2-60c560477eca');\n",
              "          const dataTable =\n",
              "            await google.colab.kernel.invokeFunction('convertToInteractive',\n",
              "                                                     [key], {});\n",
              "          if (!dataTable) return;\n",
              "\n",
              "          const docLinkHtml = 'Like what you see? Visit the ' +\n",
              "            '<a target=\"_blank\" href=https://colab.research.google.com/notebooks/data_table.ipynb>data table notebook</a>'\n",
              "            + ' to learn more about interactive tables.';\n",
              "          element.innerHTML = '';\n",
              "          dataTable['output_type'] = 'display_data';\n",
              "          await google.colab.output.renderOutput(dataTable, element);\n",
              "          const docLink = document.createElement('div');\n",
              "          docLink.innerHTML = docLinkHtml;\n",
              "          element.appendChild(docLink);\n",
              "        }\n",
              "      </script>\n",
              "    </div>\n",
              "  </div>\n",
              "  "
            ]
          },
          "metadata": {},
          "execution_count": 16
        }
      ]
    },
    {
      "cell_type": "markdown",
      "metadata": {
        "id": "Tl5hgaWPVzRf"
      },
      "source": [
        "On closer inspection, we can suspect that all the continuous variables may contain outliers.\n",
        "\n",
        "\n",
        "I will draw boxplots to visualise outliers in the above variables. "
      ]
    },
    {
      "cell_type": "code",
      "source": [
        "#draw boxplot to visualize to outliers\n",
        "plt.figure(figsize=(24,20))\n",
        "\n",
        "plt.subplot(4,2,1)\n",
        "fig=df.boxplot(column='IP mean')\n",
        "fig.set_title('')\n",
        "fig.set_ylabel('IP mean')\n",
        "\n",
        "plt.subplot(4,2,2)\n",
        "fig=df.boxplot(column='IP sd')\n",
        "fig.set_title('')\n",
        "fig.set_ylabel('IP sd')\n",
        "\n",
        "plt.subplot(4,2,3)\n",
        "fig=df.boxplot(column='IP kurtosis')\n",
        "fig.set_title('')\n",
        "fig.set_ylabel('IP kurtosis')\n",
        "\n",
        "plt.subplot(4,2,4)\n",
        "fig=df.boxplot(column='IP skewness')\n",
        "fig.set_title('')\n",
        "fig.set_ylabel('IP skewness')\n",
        "\n",
        "plt.subplot(4,2,5)\n",
        "fig=df.boxplot(column='DM-SNR mean')\n",
        "fig.set_title('')\n",
        "fig.set_ylabel('DM-SNR mean')\n",
        "\n",
        "plt.subplot(4,2,6)\n",
        "fig=df.boxplot(column='DM-SNR sd')\n",
        "fig.set_title('')\n",
        "fig.set_ylabel('DM-SNR sd')\n",
        "\n",
        "plt.subplot(4,2,4)\n",
        "fig=df.boxplot(column='DM-SNR kurtosis')\n",
        "fig.set_title('')\n",
        "fig.set_ylabel('DM-SNR kurtosis')\n",
        "\n",
        "plt.subplot(4,2,4)\n",
        "fig=df.boxplot(column='DM-SNR skewness')\n",
        "fig.set_title('')\n",
        "fig.set_ylabel('DM-SNR skewness')"
      ],
      "metadata": {
        "colab": {
          "base_uri": "https://localhost:8080/",
          "height": 765
        },
        "id": "6GYb_aKbrgm0",
        "outputId": "3244588c-0616-4204-8cb0-69ab77c25f26"
      },
      "execution_count": 17,
      "outputs": [
        {
          "output_type": "stream",
          "name": "stderr",
          "text": [
            "/usr/local/lib/python3.7/dist-packages/ipykernel_launcher.py:34: MatplotlibDeprecationWarning: Adding an axes using the same arguments as a previous axes currently reuses the earlier instance.  In a future version, a new instance will always be created and returned.  Meanwhile, this warning can be suppressed, and the future behavior ensured, by passing a unique label to each axes instance.\n",
            "/usr/local/lib/python3.7/dist-packages/ipykernel_launcher.py:39: MatplotlibDeprecationWarning: Adding an axes using the same arguments as a previous axes currently reuses the earlier instance.  In a future version, a new instance will always be created and returned.  Meanwhile, this warning can be suppressed, and the future behavior ensured, by passing a unique label to each axes instance.\n"
          ]
        },
        {
          "output_type": "execute_result",
          "data": {
            "text/plain": [
              "Text(0, 0.5, 'DM-SNR skewness')"
            ]
          },
          "metadata": {},
          "execution_count": 17
        },
        {
          "output_type": "display_data",
          "data": {
            "text/plain": [
              "<Figure size 1728x1440 with 6 Axes>"
            ],
            "image/png": "[encoded data removed]"
          },
          "metadata": {
            "needs_background": "light"
          }
        }
      ]
    },
    {
      "cell_type": "markdown",
      "metadata": {
        "id": "tfN5e9pZVzRg"
      },
      "source": [
        "The above boxplots confirm that there are lot of outliers in these variables."
      ]
    },
    {
      "cell_type": "markdown",
      "metadata": {
        "id": "czGeqkA6VzRg"
      },
      "source": [
        "### Handle outliers with SVMs\n",
        "\n",
        "\n",
        "There are 2 variants of SVMs. They are `hard-margin variant of SVM` and `soft-margin variant of SVM`.\n",
        "\n",
        "\n",
        "The `hard-margin variant of SVM` does not deal with outliers. In this case, we want to find the hyperplane with maximum margin such that every training point is correctly classified with margin at least 1. This technique does not handle outliers well.\n",
        "\n",
        "\n",
        "Another version of SVM is called `soft-margin variant of SVM`. In this case, we can have a few points incorrectly classified or \n",
        "classified with a margin less than 1. But for every such point, we have to pay a penalty in the form of `C` parameter, which controls the outliers. `Low C` implies we are allowing more outliers and `high C` implies less outliers.\n",
        "\n",
        "\n",
        "The message is that since the dataset contains outliers, so the value of C should be high while training the model."
      ]
    },
    {
      "cell_type": "markdown",
      "metadata": {
        "id": "NAYEs1koVzRg"
      },
      "source": [
        "### Check the distribution of variables\n",
        "\n",
        "\n",
        "Now, I will plot the histograms to check distributions to find out if they are normal or skewed. "
      ]
    },
    {
      "cell_type": "code",
      "source": [
        "#plot histogram to check distribution\n",
        "\n",
        "plt.figure(figsize=(24,20))\n",
        "\n",
        "plt.subplot(4, 2, 1)\n",
        "fig = df['IP mean'].hist(bins=20)\n",
        "fig.set_xlabel('IP mean')\n",
        "fig.set_ylabel('Number of pulsar stars')\n",
        "\n",
        "plt.subplot(4, 2, 2)\n",
        "fig = df['IP sd'].hist(bins=20)\n",
        "fig.set_xlabel('IP sd')\n",
        "fig.set_ylabel('Number of pulsar stars')\n",
        "\n",
        "plt.subplot(4, 2, 3)\n",
        "fig = df['IP kurtosis'].hist(bins=20)\n",
        "fig.set_xlabel('IP kurtosis')\n",
        "fig.set_ylabel('Number of pulsar stars')\n",
        "\n",
        "plt.subplot(4, 2, 4)\n",
        "fig = df['IP skewness'].hist(bins=20)\n",
        "fig.set_xlabel('IP kurtosis')\n",
        "fig.set_ylabel('Number of pulsar stars')\n",
        "\n",
        "plt.subplot(4, 2, 5)\n",
        "fig = df['DM-SNR mean'].hist(bins=20)\n",
        "fig.set_xlabel('DM-SNR mean')\n",
        "fig.set_ylabel('Number of pulsar stars')\n",
        "\n",
        "plt.subplot(4, 2, 6)\n",
        "fig = df['DM-SNR sd'].hist(bins=20)\n",
        "fig.set_xlabel('DM-SNR sd')\n",
        "fig.set_ylabel('Number of pulsar stars')\n",
        "\n",
        "plt.subplot(4, 2, 7)\n",
        "fig = df['DM-SNR kurtosis'].hist(bins=20)\n",
        "fig.set_xlabel('DM-SNR kurtosis')\n",
        "fig.set_ylabel('Number of pulsar stars')\n",
        "\n",
        "plt.subplot(4, 2, 8)\n",
        "fig = df['DM-SNR skewness'].hist(bins=20)\n",
        "fig.set_xlabel('DM-SNR skewness')\n",
        "fig.set_ylabel('Number of pulsar stars')"
      ],
      "metadata": {
        "colab": {
          "base_uri": "https://localhost:8080/",
          "height": 937
        },
        "id": "J1cAqyL1uABj",
        "outputId": "fb7ef14a-bb9d-4636-e085-0d3714d058e5"
      },
      "execution_count": 18,
      "outputs": [
        {
          "output_type": "execute_result",
          "data": {
            "text/plain": [
              "Text(0, 0.5, 'Number of pulsar stars')"
            ]
          },
          "metadata": {},
          "execution_count": 18
        },
        {
          "output_type": "display_data",
          "data": {
            "text/plain": [
              "<Figure size 1728x1440 with 8 Axes>"
            ],
            "image/png": "[encoded data removed]"
          },
          "metadata": {
            "needs_background": "light"
          }
        }
      ]
    },
    {
      "cell_type": "markdown",
      "metadata": {
        "id": "hl4aho1tVzRh"
      },
      "source": [
        "We can see that all the 8 continuous variables are skewed. "
      ]
    },
    {
      "cell_type": "code",
      "source": [
        "x=df.drop(['target_class'],axis=1)\n",
        "y=df['target_class']"
      ],
      "metadata": {
        "id": "lKZ7UecRvEWg"
      },
      "execution_count": 19,
      "outputs": []
    },
    {
      "cell_type": "code",
      "source": [
        "from sklearn.model_selection import train_test_split\n",
        "x_train,x_test,y_train,y_test=train_test_split(x,y,test_size=0.2,random_state=0)"
      ],
      "metadata": {
        "id": "Wafl98tzvQ2q"
      },
      "execution_count": 20,
      "outputs": []
    },
    {
      "cell_type": "code",
      "source": [
        "x_train.shape,x_test.shape"
      ],
      "metadata": {
        "colab": {
          "base_uri": "https://localhost:8080/"
        },
        "id": "p5SrcFpkwAlS",
        "outputId": "25344f55-a5d9-40cd-b42c-530acb88aedd"
      },
      "execution_count": 21,
      "outputs": [
        {
          "output_type": "execute_result",
          "data": {
            "text/plain": [
              "((14318, 8), (3580, 8))"
            ]
          },
          "metadata": {},
          "execution_count": 21
        }
      ]
    },
    {
      "cell_type": "code",
      "source": [
        "cols=x_train.columns"
      ],
      "metadata": {
        "id": "1MM-QpcDwDmP"
      },
      "execution_count": 22,
      "outputs": []
    },
    {
      "cell_type": "code",
      "source": [
        "from sklearn.preprocessing import StandardScaler\n",
        "scaler = StandardScaler()\n",
        "x_train = scaler.fit_transform(x_train)\n",
        "x_test = scaler.transform(x_test)"
      ],
      "metadata": {
        "id": "FmjpyeLnwJr_"
      },
      "execution_count": 23,
      "outputs": []
    },
    {
      "cell_type": "code",
      "source": [
        "x_train=pd.DataFrame(x_train,columns=[cols])\n",
        "x_test=pd.DataFrame(x_test,columns=[cols])\n",
        "x_train.describe()"
      ],
      "metadata": {
        "colab": {
          "base_uri": "https://localhost:8080/",
          "height": 300
        },
        "id": "3oZcLRF-wjeA",
        "outputId": "ca3830bb-8579-47ba-df8c-4705f498040f"
      },
      "execution_count": 24,
      "outputs": [
        {
          "output_type": "execute_result",
          "data": {
            "text/plain": [
              "            IP mean         IP sd   IP kurtosis   IP skewness   DM-SNR mean  \\\n",
              "count  1.431800e+04  1.431800e+04  1.431800e+04  1.431800e+04  1.431800e+04   \n",
              "mean   1.986604e-16 -6.735622e-16  1.792879e-17  3.631409e-17 -8.459267e-17   \n",
              "std    1.000035e+00  1.000035e+00  1.000035e+00  1.000035e+00  1.000035e+00   \n",
              "min   -4.035499e+00 -3.181033e+00 -2.185946e+00 -5.744051e-01 -4.239001e-01   \n",
              "25%   -3.896291e-01 -6.069473e-01 -4.256221e-01 -3.188054e-01 -3.664918e-01   \n",
              "50%    1.587461e-01  5.846646e-02 -2.453172e-01 -2.578142e-01 -3.372294e-01   \n",
              "75%    6.267059e-01  6.501017e-01 -1.001238e-02 -1.419621e-01 -2.463724e-01   \n",
              "max    3.151882e+00  7.621116e+00  7.008906e+00  1.054430e+01  7.025568e+00   \n",
              "\n",
              "          DM-SNR sd DM-SNR kurtosis DM-SNR skewness  \n",
              "count  1.431800e+04    1.431800e+04    1.431800e+04  \n",
              "mean  -1.563912e-16   -1.277090e-17    1.172992e-16  \n",
              "std    1.000035e+00    1.000035e+00    1.000035e+00  \n",
              "min   -9.733707e-01   -2.455649e+00   -1.003411e+00  \n",
              "25%   -6.125457e-01   -5.641035e-01   -6.627590e-01  \n",
              "50%   -4.067482e-01    3.170446e-02   -2.059136e-01  \n",
              "75%    1.078934e-01    5.362759e-01    3.256217e-01  \n",
              "max    4.292181e+00    5.818557e+00    1.024613e+01  "
            ],
            "text/html": [
              "\n",
              "  <div id=\"df-a020cd1e-1f06-433d-be8c-5e807ec282ea\">\n",
              "    <div class=\"colab-df-container\">\n",
              "      <div>\n",
              "<style scoped>\n",
              "    .dataframe tbody tr th:only-of-type {\n",
              "        vertical-align: middle;\n",
              "    }\n",
              "\n",
              "    .dataframe tbody tr th {\n",
              "        vertical-align: top;\n",
              "    }\n",
              "\n",
              "    .dataframe thead tr th {\n",
              "        text-align: left;\n",
              "    }\n",
              "</style>\n",
              "<table border=\"1\" class=\"dataframe\">\n",
              "  <thead>\n",
              "    <tr>\n",
              "      <th></th>\n",
              "      <th>IP mean</th>\n",
              "      <th>IP sd</th>\n",
              "      <th>IP kurtosis</th>\n",
              "      <th>IP skewness</th>\n",
              "      <th>DM-SNR mean</th>\n",
              "      <th>DM-SNR sd</th>\n",
              "      <th>DM-SNR kurtosis</th>\n",
              "      <th>DM-SNR skewness</th>\n",
              "    </tr>\n",
              "  </thead>\n",
              "  <tbody>\n",
              "    <tr>\n",
              "      <th>count</th>\n",
              "      <td>1.431800e+04</td>\n",
              "      <td>1.431800e+04</td>\n",
              "      <td>1.431800e+04</td>\n",
              "      <td>1.431800e+04</td>\n",
              "      <td>1.431800e+04</td>\n",
              "      <td>1.431800e+04</td>\n",
              "      <td>1.431800e+04</td>\n",
              "      <td>1.431800e+04</td>\n",
              "    </tr>\n",
              "    <tr>\n",
              "      <th>mean</th>\n",
              "      <td>1.986604e-16</td>\n",
              "      <td>-6.735622e-16</td>\n",
              "      <td>1.792879e-17</td>\n",
              "      <td>3.631409e-17</td>\n",
              "      <td>-8.459267e-17</td>\n",
              "      <td>-1.563912e-16</td>\n",
              "      <td>-1.277090e-17</td>\n",
              "      <td>1.172992e-16</td>\n",
              "    </tr>\n",
              "    <tr>\n",
              "      <th>std</th>\n",
              "      <td>1.000035e+00</td>\n",
              "      <td>1.000035e+00</td>\n",
              "      <td>1.000035e+00</td>\n",
              "      <td>1.000035e+00</td>\n",
              "      <td>1.000035e+00</td>\n",
              "      <td>1.000035e+00</td>\n",
              "      <td>1.000035e+00</td>\n",
              "      <td>1.000035e+00</td>\n",
              "    </tr>\n",
              "    <tr>\n",
              "      <th>min</th>\n",
              "      <td>-4.035499e+00</td>\n",
              "      <td>-3.181033e+00</td>\n",
              "      <td>-2.185946e+00</td>\n",
              "      <td>-5.744051e-01</td>\n",
              "      <td>-4.239001e-01</td>\n",
              "      <td>-9.733707e-01</td>\n",
              "      <td>-2.455649e+00</td>\n",
              "      <td>-1.003411e+00</td>\n",
              "    </tr>\n",
              "    <tr>\n",
              "      <th>25%</th>\n",
              "      <td>-3.896291e-01</td>\n",
              "      <td>-6.069473e-01</td>\n",
              "      <td>-4.256221e-01</td>\n",
              "      <td>-3.188054e-01</td>\n",
              "      <td>-3.664918e-01</td>\n",
              "      <td>-6.125457e-01</td>\n",
              "      <td>-5.641035e-01</td>\n",
              "      <td>-6.627590e-01</td>\n",
              "    </tr>\n",
              "    <tr>\n",
              "      <th>50%</th>\n",
              "      <td>1.587461e-01</td>\n",
              "      <td>5.846646e-02</td>\n",
              "      <td>-2.453172e-01</td>\n",
              "      <td>-2.578142e-01</td>\n",
              "      <td>-3.372294e-01</td>\n",
              "      <td>-4.067482e-01</td>\n",
              "      <td>3.170446e-02</td>\n",
              "      <td>-2.059136e-01</td>\n",
              "    </tr>\n",
              "    <tr>\n",
              "      <th>75%</th>\n",
              "      <td>6.267059e-01</td>\n",
              "      <td>6.501017e-01</td>\n",
              "      <td>-1.001238e-02</td>\n",
              "      <td>-1.419621e-01</td>\n",
              "      <td>-2.463724e-01</td>\n",
              "      <td>1.078934e-01</td>\n",
              "      <td>5.362759e-01</td>\n",
              "      <td>3.256217e-01</td>\n",
              "    </tr>\n",
              "    <tr>\n",
              "      <th>max</th>\n",
              "      <td>3.151882e+00</td>\n",
              "      <td>7.621116e+00</td>\n",
              "      <td>7.008906e+00</td>\n",
              "      <td>1.054430e+01</td>\n",
              "      <td>7.025568e+00</td>\n",
              "      <td>4.292181e+00</td>\n",
              "      <td>5.818557e+00</td>\n",
              "      <td>1.024613e+01</td>\n",
              "    </tr>\n",
              "  </tbody>\n",
              "</table>\n",
              "</div>\n",
              "      <button class=\"colab-df-convert\" onclick=\"convertToInteractive('df-a020cd1e-1f06-433d-be8c-5e807ec282ea')\"\n",
              "              title=\"Convert this dataframe to an interactive table.\"\n",
              "              style=\"display:none;\">\n",
              "        \n",
              "  <svg xmlns=\"http://www.w3.org/2000/svg\" height=\"24px\"viewBox=\"0 0 24 24\"\n",
              "       width=\"24px\">\n",
              "    <path d=\"M0 0h24v24H0V0z\" fill=\"none\"/>\n",
              "    <path d=\"M18.56 5.44l.94 2.06.94-2.06 2.06-.94-2.06-.94-.94-2.06-.94 2.06-2.06.94zm-11 1L8.5 8.5l.94-2.06 2.06-.94-2.06-.94L8.5 2.5l-.94 2.06-2.06.94zm10 10l.94 2.06.94-2.06 2.06-.94-2.06-.94-.94-2.06-.94 2.06-2.06.94z\"/><path d=\"M17.41 7.96l-1.37-1.37c-.4-.4-.92-.59-1.43-.59-.52 0-1.04.2-1.43.59L10.3 9.45l-7.72 7.72c-.78.78-.78 2.05 0 2.83L4 21.41c.39.39.9.59 1.41.59.51 0 1.02-.2 1.41-.59l7.78-7.78 2.81-2.81c.8-.78.8-2.07 0-2.86zM5.41 20L4 18.59l7.72-7.72 1.47 1.35L5.41 20z\"/>\n",
              "  </svg>\n",
              "      </button>\n",
              "      \n",
              "  <style>\n",
              "    .colab-df-container {\n",
              "      display:flex;\n",
              "      flex-wrap:wrap;\n",
              "      gap: 12px;\n",
              "    }\n",
              "\n",
              "    .colab-df-convert {\n",
              "      background-color: #E8F0FE;\n",
              "      border: none;\n",
              "      border-radius: 50%;\n",
              "      cursor: pointer;\n",
              "      display: none;\n",
              "      fill: #1967D2;\n",
              "      height: 32px;\n",
              "      padding: 0 0 0 0;\n",
              "      width: 32px;\n",
              "    }\n",
              "\n",
              "    .colab-df-convert:hover {\n",
              "      background-color: #E2EBFA;\n",
              "      box-shadow: 0px 1px 2px rgba(60, 64, 67, 0.3), 0px 1px 3px 1px rgba(60, 64, 67, 0.15);\n",
              "      fill: #174EA6;\n",
              "    }\n",
              "\n",
              "    [theme=dark] .colab-df-convert {\n",
              "      background-color: #3B4455;\n",
              "      fill: #D2E3FC;\n",
              "    }\n",
              "\n",
              "    [theme=dark] .colab-df-convert:hover {\n",
              "      background-color: #434B5C;\n",
              "      box-shadow: 0px 1px 3px 1px rgba(0, 0, 0, 0.15);\n",
              "      filter: drop-shadow(0px 1px 2px rgba(0, 0, 0, 0.3));\n",
              "      fill: #FFFFFF;\n",
              "    }\n",
              "  </style>\n",
              "\n",
              "      <script>\n",
              "        const buttonEl =\n",
              "          document.querySelector('#df-a020cd1e-1f06-433d-be8c-5e807ec282ea button.colab-df-convert');\n",
              "        buttonEl.style.display =\n",
              "          google.colab.kernel.accessAllowed ? 'block' : 'none';\n",
              "\n",
              "        async function convertToInteractive(key) {\n",
              "          const element = document.querySelector('#df-a020cd1e-1f06-433d-be8c-5e807ec282ea');\n",
              "          const dataTable =\n",
              "            await google.colab.kernel.invokeFunction('convertToInteractive',\n",
              "                                                     [key], {});\n",
              "          if (!dataTable) return;\n",
              "\n",
              "          const docLinkHtml = 'Like what you see? Visit the ' +\n",
              "            '<a target=\"_blank\" href=https://colab.research.google.com/notebooks/data_table.ipynb>data table notebook</a>'\n",
              "            + ' to learn more about interactive tables.';\n",
              "          element.innerHTML = '';\n",
              "          dataTable['output_type'] = 'display_data';\n",
              "          await google.colab.output.renderOutput(dataTable, element);\n",
              "          const docLink = document.createElement('div');\n",
              "          docLink.innerHTML = docLinkHtml;\n",
              "          element.appendChild(docLink);\n",
              "        }\n",
              "      </script>\n",
              "    </div>\n",
              "  </div>\n",
              "  "
            ]
          },
          "metadata": {},
          "execution_count": 24
        }
      ]
    },
    {
      "cell_type": "markdown",
      "metadata": {
        "id": "9C7jHTbPVzRi"
      },
      "source": [
        "We now have `X_train` dataset ready to be fed into the Logistic Regression classifier. I will do it as follows."
      ]
    },
    {
      "cell_type": "markdown",
      "metadata": {
        "id": "Y9lEFseZVzRi"
      },
      "source": [
        "# **Run SVM with default hyperparameters** <a class=\"anchor\" id=\"12\"></a>\n",
        "\n",
        "\n",
        "Default hyperparameter means C=1.0,  kernel=`rbf` and gamma=`auto` among other parameters."
      ]
    },
    {
      "cell_type": "code",
      "source": [
        "from sklearn.svm import SVC\n",
        "from sklearn.metrics import accuracy_score\n",
        "svc=SVC()\n",
        "svc.fit(x_train,y_train)\n",
        "y_pred=svc.predict(x_test)\n",
        "print('Model accuracy with default high parameters is {0:0.4f}'.format(accuracy_score(y_test,y_pred)))"
      ],
      "metadata": {
        "colab": {
          "base_uri": "https://localhost:8080/"
        },
        "id": "1-Um2sjfeO4f",
        "outputId": "f081232a-e7af-4a6e-a714-b6b18b0cca97"
      },
      "execution_count": 25,
      "outputs": [
        {
          "output_type": "stream",
          "name": "stderr",
          "text": [
            "/usr/local/lib/python3.7/dist-packages/sklearn/utils/validation.py:1692: FutureWarning: Feature names only support names that are all strings. Got feature names with dtypes: ['tuple']. An error will be raised in 1.2.\n",
            "  FutureWarning,\n",
            "/usr/local/lib/python3.7/dist-packages/sklearn/utils/validation.py:1692: FutureWarning: Feature names only support names that are all strings. Got feature names with dtypes: ['tuple']. An error will be raised in 1.2.\n",
            "  FutureWarning,\n"
          ]
        },
        {
          "output_type": "stream",
          "name": "stdout",
          "text": [
            "Model accuracy with default high parameters is 0.9827\n"
          ]
        }
      ]
    },
    {
      "cell_type": "markdown",
      "metadata": {
        "id": "4iYROWRsVzRi"
      },
      "source": [
        "### Run SVM with rbf kernel and C=100.0\n",
        "\n",
        "\n",
        "We have seen that there are outliers in our dataset. So, we should increase the value of C as higher C means fewer outliers. \n",
        "So, I will run SVM with kernel=`rbf` and C=100.0."
      ]
    },
    {
      "cell_type": "code",
      "source": [
        "svc=SVC(C=100)\n",
        "svc.fit(x_train,y_train)\n",
        "y_pred=svc.predict(x_test)\n",
        "print('Model accuracy score with rbf kernal and c=100 is {0:0.4f}'.format(accuracy_score(y_test,y_pred)))"
      ],
      "metadata": {
        "colab": {
          "base_uri": "https://localhost:8080/"
        },
        "id": "CrMdJhfle3Vt",
        "outputId": "16fc4732-adb1-461e-9651-d98e94dfff3d"
      },
      "execution_count": 26,
      "outputs": [
        {
          "output_type": "stream",
          "name": "stderr",
          "text": [
            "/usr/local/lib/python3.7/dist-packages/sklearn/utils/validation.py:1692: FutureWarning: Feature names only support names that are all strings. Got feature names with dtypes: ['tuple']. An error will be raised in 1.2.\n",
            "  FutureWarning,\n",
            "/usr/local/lib/python3.7/dist-packages/sklearn/utils/validation.py:1692: FutureWarning: Feature names only support names that are all strings. Got feature names with dtypes: ['tuple']. An error will be raised in 1.2.\n",
            "  FutureWarning,\n"
          ]
        },
        {
          "output_type": "stream",
          "name": "stdout",
          "text": [
            "Model accuracy score with rbf kernal and c=100 is 0.9832\n"
          ]
        }
      ]
    },
    {
      "cell_type": "code",
      "source": [
        "svc=SVC(C=1000)\n",
        "svc.fit(x_train,y_train)\n",
        "y_pred=svc.predict(x_test)\n",
        "print('Model accuracy score with rbf kernal and c=1000 is {0:0.4f}'.format(accuracy_score(y_test,y_pred)))"
      ],
      "metadata": {
        "colab": {
          "base_uri": "https://localhost:8080/"
        },
        "id": "BVuyHJIAfVYe",
        "outputId": "4629cc9e-8ab0-49c0-92d9-291fbf91fbc3"
      },
      "execution_count": 27,
      "outputs": [
        {
          "output_type": "stream",
          "name": "stderr",
          "text": [
            "/usr/local/lib/python3.7/dist-packages/sklearn/utils/validation.py:1692: FutureWarning: Feature names only support names that are all strings. Got feature names with dtypes: ['tuple']. An error will be raised in 1.2.\n",
            "  FutureWarning,\n",
            "/usr/local/lib/python3.7/dist-packages/sklearn/utils/validation.py:1692: FutureWarning: Feature names only support names that are all strings. Got feature names with dtypes: ['tuple']. An error will be raised in 1.2.\n",
            "  FutureWarning,\n"
          ]
        },
        {
          "output_type": "stream",
          "name": "stdout",
          "text": [
            "Model accuracy score with rbf kernal and c=1000 is 0.9816\n"
          ]
        }
      ]
    },
    {
      "cell_type": "code",
      "source": [
        "linear_svc=SVC(kernel='linear',C=1)\n",
        "linear_svc.fit(x_train,y_train)\n",
        "y_pred=linear_svc.predict(x_test)\n",
        "print('Model accuracy score with linear kernel and c=1 is {0:0.4f}'.format(accuracy_score(y_test,y_pred)))"
      ],
      "metadata": {
        "colab": {
          "base_uri": "https://localhost:8080/"
        },
        "id": "rZrgP_t7fuNs",
        "outputId": "a263eb9e-46aa-48e9-a5b0-111454843827"
      },
      "execution_count": 29,
      "outputs": [
        {
          "output_type": "stream",
          "name": "stderr",
          "text": [
            "/usr/local/lib/python3.7/dist-packages/sklearn/utils/validation.py:1692: FutureWarning: Feature names only support names that are all strings. Got feature names with dtypes: ['tuple']. An error will be raised in 1.2.\n",
            "  FutureWarning,\n"
          ]
        },
        {
          "output_type": "stream",
          "name": "stdout",
          "text": [
            "Model accuracy score with linear kernal and c=1 is 0.9830\n"
          ]
        },
        {
          "output_type": "stream",
          "name": "stderr",
          "text": [
            "/usr/local/lib/python3.7/dist-packages/sklearn/utils/validation.py:1692: FutureWarning: Feature names only support names that are all strings. Got feature names with dtypes: ['tuple']. An error will be raised in 1.2.\n",
            "  FutureWarning,\n"
          ]
        }
      ]
    },
    {
      "cell_type": "code",
      "source": [
        "linear_svc100=SVC(kernel='linear',C=100)\n",
        "linear_svc100.fit(x_train,y_train)\n",
        "y_pred=linear_svc100.predict(x_test)\n",
        "print('Model accuracy score with linear kernel and c=100 is {0:0.4f}'.format(accuracy_score(y_test,y_pred)))"
      ],
      "metadata": {
        "colab": {
          "base_uri": "https://localhost:8080/"
        },
        "id": "S2bNaB8BgZdx",
        "outputId": "1d65e9c2-c9e2-40c7-cd39-7de7ee6b155a"
      },
      "execution_count": 33,
      "outputs": [
        {
          "output_type": "stream",
          "name": "stderr",
          "text": [
            "/usr/local/lib/python3.7/dist-packages/sklearn/utils/validation.py:1692: FutureWarning: Feature names only support names that are all strings. Got feature names with dtypes: ['tuple']. An error will be raised in 1.2.\n",
            "  FutureWarning,\n"
          ]
        },
        {
          "output_type": "stream",
          "name": "stdout",
          "text": [
            "Model accuracy score with linear kernel and c=100 is 0.9832\n"
          ]
        },
        {
          "output_type": "stream",
          "name": "stderr",
          "text": [
            "/usr/local/lib/python3.7/dist-packages/sklearn/utils/validation.py:1692: FutureWarning: Feature names only support names that are all strings. Got feature names with dtypes: ['tuple']. An error will be raised in 1.2.\n",
            "  FutureWarning,\n"
          ]
        }
      ]
    },
    {
      "cell_type": "code",
      "source": [
        "linear_svc1000=SVC(kernel='linear',C=1000)\n",
        "linear_svc1000.fit(x_train,y_train)\n",
        "y_pred=linear_svc1000.predict(x_test)\n",
        "print('Model accuracy score with linear kernel and c=1000 is {0:0.4f}'.format(accuracy_score(y_test,y_pred)))"
      ],
      "metadata": {
        "colab": {
          "base_uri": "https://localhost:8080/"
        },
        "id": "xyjnBNblg6dk",
        "outputId": "b63fa530-783d-48a3-e781-b2536541e6ad"
      },
      "execution_count": 34,
      "outputs": [
        {
          "output_type": "stream",
          "name": "stderr",
          "text": [
            "/usr/local/lib/python3.7/dist-packages/sklearn/utils/validation.py:1692: FutureWarning: Feature names only support names that are all strings. Got feature names with dtypes: ['tuple']. An error will be raised in 1.2.\n",
            "  FutureWarning,\n"
          ]
        },
        {
          "output_type": "stream",
          "name": "stdout",
          "text": [
            "Model accuracy score with linear kernel and c=1000 is 0.9832\n"
          ]
        },
        {
          "output_type": "stream",
          "name": "stderr",
          "text": [
            "/usr/local/lib/python3.7/dist-packages/sklearn/utils/validation.py:1692: FutureWarning: Feature names only support names that are all strings. Got feature names with dtypes: ['tuple']. An error will be raised in 1.2.\n",
            "  FutureWarning,\n"
          ]
        }
      ]
    },
    {
      "cell_type": "markdown",
      "metadata": {
        "id": "GqBOjPk5VzRk"
      },
      "source": [
        "We can see that we can obtain higher accuracy with C=100.0 and C=1000.0 as compared to C=1.0."
      ]
    },
    {
      "cell_type": "markdown",
      "metadata": {
        "id": "FDoYqxzWVzRk"
      },
      "source": [
        "### Compare the train-set and test-set accuracy\n",
        "\n",
        "\n",
        "Now, I will compare the train-set and test-set accuracy to check for overfitting."
      ]
    },
    {
      "cell_type": "code",
      "source": [
        "y_pred_train=linear_svc.predict(x_train)\n",
        "print('Acuuracy of training set is {0:.4f}'.format(accuracy_score(y_train,y_pred_train)))\n",
        "y_pred_test=linear_svc.predict(x_test)\n",
        "print('Accuracy of testing set is {0:0.4f}'.format(accuracy_score(y_test,y_pred)))"
      ],
      "metadata": {
        "colab": {
          "base_uri": "https://localhost:8080/"
        },
        "id": "T7YGq4omhhD7",
        "outputId": "284e263a-082b-4d81-f15e-fb5948b6d70f"
      },
      "execution_count": 46,
      "outputs": [
        {
          "output_type": "stream",
          "name": "stderr",
          "text": [
            "/usr/local/lib/python3.7/dist-packages/sklearn/utils/validation.py:1692: FutureWarning: Feature names only support names that are all strings. Got feature names with dtypes: ['tuple']. An error will be raised in 1.2.\n",
            "  FutureWarning,\n"
          ]
        },
        {
          "output_type": "stream",
          "name": "stdout",
          "text": [
            "Acuuracy of training set is 0.9783\n",
            "Accuracy of testing set is 0.8855\n"
          ]
        },
        {
          "output_type": "stream",
          "name": "stderr",
          "text": [
            "/usr/local/lib/python3.7/dist-packages/sklearn/utils/validation.py:1692: FutureWarning: Feature names only support names that are all strings. Got feature names with dtypes: ['tuple']. An error will be raised in 1.2.\n",
            "  FutureWarning,\n"
          ]
        }
      ]
    },
    {
      "cell_type": "markdown",
      "metadata": {
        "id": "t_Y41A0fVzRl"
      },
      "source": [
        "### Compare model accuracy with null accuracy\n",
        "\n",
        "\n",
        "So, the model accuracy is 0.9832. But, we cannot say that our model is very good based on the above accuracy. We must compare it with the **null accuracy**. Null accuracy is the accuracy that could be achieved by always predicting the most frequent class.\n",
        "\n",
        "So, we should first check the class distribution in the test set. "
      ]
    },
    {
      "cell_type": "code",
      "source": [
        "y_test.value_counts()"
      ],
      "metadata": {
        "colab": {
          "base_uri": "https://localhost:8080/"
        },
        "id": "GOvibvBRiokh",
        "outputId": "27ced334-3939-47d1-9dde-5fea0082b442"
      },
      "execution_count": 37,
      "outputs": [
        {
          "output_type": "execute_result",
          "data": {
            "text/plain": [
              "0    3306\n",
              "1     274\n",
              "Name: target_class, dtype: int64"
            ]
          },
          "metadata": {},
          "execution_count": 37
        }
      ]
    },
    {
      "cell_type": "code",
      "source": [
        "null_accuracy=y_test.value_counts()[0]/len(y_test)\n",
        "print('Null accuracy score: {0:0.4f}'.format(null_accuracy))"
      ],
      "metadata": {
        "colab": {
          "base_uri": "https://localhost:8080/"
        },
        "id": "HIz8lrleiuLf",
        "outputId": "dd252ac6-08ea-4646-dd54-5d5a6a0f7eda"
      },
      "execution_count": 39,
      "outputs": [
        {
          "output_type": "stream",
          "name": "stdout",
          "text": [
            "Null accuracy score: 0.9235\n"
          ]
        }
      ]
    },
    {
      "cell_type": "code",
      "source": [
        "#svm with polynomial kernal\n",
        "poly_svc=SVC(kernel='poly',C=1)\n",
        "poly_svc.fit(x_train,y_train)\n",
        "y_pred=poly_svc.predict(x_test)\n",
        "print('Accuracy score with poly kernel with c=1 is {0:.4f}'.format(accuracy_score(y_test,y_pred)))"
      ],
      "metadata": {
        "colab": {
          "base_uri": "https://localhost:8080/"
        },
        "id": "Vp0l2SmQi_Sg",
        "outputId": "38c67ab8-6048-4c53-e2c2-9464c40e5a02"
      },
      "execution_count": 41,
      "outputs": [
        {
          "output_type": "stream",
          "name": "stderr",
          "text": [
            "/usr/local/lib/python3.7/dist-packages/sklearn/utils/validation.py:1692: FutureWarning: Feature names only support names that are all strings. Got feature names with dtypes: ['tuple']. An error will be raised in 1.2.\n",
            "  FutureWarning,\n"
          ]
        },
        {
          "output_type": "stream",
          "name": "stdout",
          "text": [
            "Accuracy score with poly kernel with c=1 is 0.9807\n"
          ]
        },
        {
          "output_type": "stream",
          "name": "stderr",
          "text": [
            "/usr/local/lib/python3.7/dist-packages/sklearn/utils/validation.py:1692: FutureWarning: Feature names only support names that are all strings. Got feature names with dtypes: ['tuple']. An error will be raised in 1.2.\n",
            "  FutureWarning,\n"
          ]
        }
      ]
    },
    {
      "cell_type": "code",
      "source": [
        "poly_svc100=SVC(kernel='poly',C=100)\n",
        "poly_svc100.fit(x_train,y_train)\n",
        "y_pred=poly_svc100.predict(x_test)\n",
        "print('Accuracy score with poly kernel with c=100 is {0:.4f}'.format(accuracy_score(y_test,y_pred)))"
      ],
      "metadata": {
        "colab": {
          "base_uri": "https://localhost:8080/"
        },
        "id": "bWfp688Xk3iC",
        "outputId": "4ba0e33b-a3bc-4527-faf8-99ecfed9db4a"
      },
      "execution_count": 43,
      "outputs": [
        {
          "output_type": "stream",
          "name": "stderr",
          "text": [
            "/usr/local/lib/python3.7/dist-packages/sklearn/utils/validation.py:1692: FutureWarning: Feature names only support names that are all strings. Got feature names with dtypes: ['tuple']. An error will be raised in 1.2.\n",
            "  FutureWarning,\n"
          ]
        },
        {
          "output_type": "stream",
          "name": "stdout",
          "text": [
            "Accuracy score with poly kernel with c=100 is 0.9824\n"
          ]
        },
        {
          "output_type": "stream",
          "name": "stderr",
          "text": [
            "/usr/local/lib/python3.7/dist-packages/sklearn/utils/validation.py:1692: FutureWarning: Feature names only support names that are all strings. Got feature names with dtypes: ['tuple']. An error will be raised in 1.2.\n",
            "  FutureWarning,\n"
          ]
        }
      ]
    },
    {
      "cell_type": "code",
      "source": [
        "#sigmoid kernel\n",
        "sigmoid_svc=SVC(kernel='sigmoid',C=1)\n",
        "sigmoid_svc.fit(x_train,y_train)\n",
        "y_pred=sigmoid_svc.predict(x_test)\n",
        "print('accuracy score with sigmoid kernel with c=1 is {0:0.4f}'.format(accuracy_score(y_test,y_pred)))"
      ],
      "metadata": {
        "colab": {
          "base_uri": "https://localhost:8080/"
        },
        "id": "MeTtC54KlIGe",
        "outputId": "f35f6697-12e4-4040-ee92-3b1549fb58e2"
      },
      "execution_count": 44,
      "outputs": [
        {
          "output_type": "stream",
          "name": "stderr",
          "text": [
            "/usr/local/lib/python3.7/dist-packages/sklearn/utils/validation.py:1692: FutureWarning: Feature names only support names that are all strings. Got feature names with dtypes: ['tuple']. An error will be raised in 1.2.\n",
            "  FutureWarning,\n",
            "/usr/local/lib/python3.7/dist-packages/sklearn/utils/validation.py:1692: FutureWarning: Feature names only support names that are all strings. Got feature names with dtypes: ['tuple']. An error will be raised in 1.2.\n",
            "  FutureWarning,\n"
          ]
        },
        {
          "output_type": "stream",
          "name": "stdout",
          "text": [
            "accuracy score with sigmoid kernel with c=1 is 0.8858\n"
          ]
        }
      ]
    },
    {
      "cell_type": "code",
      "source": [
        "sigmoid_svc100=SVC(kernel='sigmoid',C=100)\n",
        "sigmoid_svc100.fit(x_train,y_train)\n",
        "y_pred=sigmoid_svc100.predict(x_test)\n",
        "print('accuracy score with sigmoid kernel with c=100 is {0:0.4f}'.format(accuracy_score(y_test,y_pred)))"
      ],
      "metadata": {
        "colab": {
          "base_uri": "https://localhost:8080/"
        },
        "id": "43T6QGuZl4q2",
        "outputId": "c61b2b2a-a5ea-40b9-a42a-88390bed5b37"
      },
      "execution_count": 45,
      "outputs": [
        {
          "output_type": "stream",
          "name": "stderr",
          "text": [
            "/usr/local/lib/python3.7/dist-packages/sklearn/utils/validation.py:1692: FutureWarning: Feature names only support names that are all strings. Got feature names with dtypes: ['tuple']. An error will be raised in 1.2.\n",
            "  FutureWarning,\n",
            "/usr/local/lib/python3.7/dist-packages/sklearn/utils/validation.py:1692: FutureWarning: Feature names only support names that are all strings. Got feature names with dtypes: ['tuple']. An error will be raised in 1.2.\n",
            "  FutureWarning,\n"
          ]
        },
        {
          "output_type": "stream",
          "name": "stdout",
          "text": [
            "accuracy score with sigmoid kernel with c=100 is 0.8855\n"
          ]
        }
      ]
    },
    {
      "cell_type": "markdown",
      "metadata": {
        "id": "Kqr5Dv_qVzRn"
      },
      "source": [
        "### Comments\n",
        "\n",
        "\n",
        "We get maximum accuracy with `rbf` and `linear` kernel with C=100.0. and the accuracy is 0.9832. Based on the above analysis we can conclude that our classification model accuracy is very good. Our model is doing a very good job in terms of predicting the class labels.\n",
        "\n",
        "\n",
        "But, this is not true. Here, we have an imbalanced dataset. The problem is that accuracy is an inadequate measure for quantifying predictive performance in the imbalanced dataset problem.\n",
        "\n",
        "\n",
        "So, we must explore alternative metrices that provide better guidance in selecting models. In particular, we would like to know the underlying distribution of values and the type of errors our classifer is making. \n",
        "\n",
        "\n",
        "One such metric to analyze the model performance in imbalanced classes problem is `Confusion matrix`."
      ]
    },
    {
      "cell_type": "code",
      "source": [
        "from sklearn.metrics import confusion_matrix\n",
        "cm=confusion_matrix(y_test,y_pred_test)\n",
        "print('confusion matrix\\n\\n',cm)\n",
        "print('\\ntrue positives(TP)=',cm[0][0])\n",
        "print('\\ntrue negatives(TN)=',cm[1][1])\n",
        "print('\\nfalse positive(FP)=',cm[0][1])\n",
        "print('\\nfalse negative(FN)=',cm[1][0])"
      ],
      "metadata": {
        "colab": {
          "base_uri": "https://localhost:8080/"
        },
        "id": "J_3xIKCemPTe",
        "outputId": "6d624246-1af4-4fcc-e56b-ac2b95ad4c95"
      },
      "execution_count": 47,
      "outputs": [
        {
          "output_type": "stream",
          "name": "stdout",
          "text": [
            "confusion matrix\n",
            "\n",
            " [[3289   17]\n",
            " [  44  230]]\n",
            "\n",
            "true positives(TP)= 3289\n",
            "\n",
            "true negatives(TN)= 230\n",
            "\n",
            "false positive(FP)= 17\n",
            "\n",
            "false negative(FN)= 44\n"
          ]
        }
      ]
    },
    {
      "cell_type": "code",
      "source": [
        "#visualizing confusion matrix with seaborn heatmap\n",
        "cm_matrix=pd.DataFrame(data=cm,columns=['Actual Positive:1','Actual Negative:0'],index=['Predict Positive:1','Predict Negative:0'])\n",
        "sns.heatmap(cm_matrix,annot=True,fmt='d',cmap='YlGnBu')"
      ],
      "metadata": {
        "colab": {
          "base_uri": "https://localhost:8080/",
          "height": 284
        },
        "id": "MgInxytXnvNM",
        "outputId": "203e8d60-fec2-4717-eceb-d3a25bb60204"
      },
      "execution_count": 49,
      "outputs": [
        {
          "output_type": "execute_result",
          "data": {
            "text/plain": [
              "<matplotlib.axes._subplots.AxesSubplot at 0x7f7db2aedf10>"
            ]
          },
          "metadata": {},
          "execution_count": 49
        },
        {
          "output_type": "display_data",
          "data": {
            "text/plain": [
              "<Figure size 432x288 with 2 Axes>"
            ],
            "image/png": "[encoded data removed]"
          },
          "metadata": {
            "needs_background": "light"
          }
        }
      ]
    },
    {
      "cell_type": "markdown",
      "metadata": {
        "id": "EZLmr4gzVzRo"
      },
      "source": [
        "### Classification Report\n",
        "\n",
        "\n",
        "**Classification report** is another way to evaluate the classification model performance. It displays the  **precision**, **recall**, **f1** and **support** scores for the model. I have described these terms in later.\n",
        "\n",
        "We can print a classification report as follows:-"
      ]
    },
    {
      "cell_type": "code",
      "source": [
        "from sklearn.metrics import classification_report \n",
        "print(classification_report(y_test,y_pred_test))"
      ],
      "metadata": {
        "colab": {
          "base_uri": "https://localhost:8080/"
        },
        "id": "HNxU88lhoiY9",
        "outputId": "9aa4bec8-f02b-44d4-d7cf-ef7f169c0605"
      },
      "execution_count": 51,
      "outputs": [
        {
          "output_type": "stream",
          "name": "stdout",
          "text": [
            "              precision    recall  f1-score   support\n",
            "\n",
            "           0       0.99      0.99      0.99      3306\n",
            "           1       0.93      0.84      0.88       274\n",
            "\n",
            "    accuracy                           0.98      3580\n",
            "   macro avg       0.96      0.92      0.94      3580\n",
            "weighted avg       0.98      0.98      0.98      3580\n",
            "\n"
          ]
        }
      ]
    },
    {
      "cell_type": "code",
      "source": [
        "#classification accuracy\n",
        "TP=cm[0][0]\n",
        "TN=cm[1][1]\n",
        "FP=cm[0][1]\n",
        "FN=cm[1][0]"
      ],
      "metadata": {
        "id": "F1fhrwDEou-3"
      },
      "execution_count": 52,
      "outputs": []
    },
    {
      "cell_type": "code",
      "source": [
        "classification_accuracy=(TP+TN)/(TP+TN+FP+FN)\n",
        "print('classification accuracy is {0:0.4f}'.format(classification_accuracy))"
      ],
      "metadata": {
        "colab": {
          "base_uri": "https://localhost:8080/"
        },
        "id": "8_q6t7qjo_mB",
        "outputId": "8335df79-0bae-4300-979b-f65eb9005054"
      },
      "execution_count": 55,
      "outputs": [
        {
          "output_type": "stream",
          "name": "stdout",
          "text": [
            "classification accuracy is 0.9830\n"
          ]
        }
      ]
    },
    {
      "cell_type": "code",
      "source": [
        "#classification error\n",
        "classification_error=(FP+FN)/(TP+TN+FP+FN)\n",
        "print('classification accuracy is {0:0.4f}'.format(classification_error))"
      ],
      "metadata": {
        "colab": {
          "base_uri": "https://localhost:8080/"
        },
        "id": "xvnGasKGpJwp",
        "outputId": "b61cf272-6099-4e29-c2dc-33e1ffc279bb"
      },
      "execution_count": 57,
      "outputs": [
        {
          "output_type": "stream",
          "name": "stdout",
          "text": [
            "classification accuracy is 0.0170\n"
          ]
        }
      ]
    },
    {
      "cell_type": "code",
      "source": [
        "#precision\n",
        "precision=TP/(TP+FP)\n",
        "print('precision is {0:0.4f}'.format(precision))"
      ],
      "metadata": {
        "colab": {
          "base_uri": "https://localhost:8080/"
        },
        "id": "5I7c24FWp0gW",
        "outputId": "e1c12fa3-9f73-40a0-b731-6c2d763f56bd"
      },
      "execution_count": 58,
      "outputs": [
        {
          "output_type": "stream",
          "name": "stdout",
          "text": [
            "precision is 0.9949\n"
          ]
        }
      ]
    },
    {
      "cell_type": "code",
      "source": [
        "#recall\n",
        "recall=TP/(TP+FN)\n",
        "print('recall is {0:0.4f}'.format(recall))"
      ],
      "metadata": {
        "colab": {
          "base_uri": "https://localhost:8080/"
        },
        "id": "zb_yjOqoqOhW",
        "outputId": "115bd144-0f93-4a93-bc27-ab46c26495f2"
      },
      "execution_count": 59,
      "outputs": [
        {
          "output_type": "stream",
          "name": "stdout",
          "text": [
            "recall is 0.9868\n"
          ]
        }
      ]
    },
    {
      "cell_type": "code",
      "source": [
        "#true positive rate\n",
        "true_positive_rate=TP/(TP+FN)\n",
        "print('true positive rate is {0:0.4f}'.format(true_positive_rate))"
      ],
      "metadata": {
        "colab": {
          "base_uri": "https://localhost:8080/"
        },
        "id": "zxvxvf9XqZvI",
        "outputId": "ad0bcca6-753e-492c-cab6-eda9a853fd9d"
      },
      "execution_count": 60,
      "outputs": [
        {
          "output_type": "stream",
          "name": "stdout",
          "text": [
            "true positive rate is 0.9868\n"
          ]
        }
      ]
    },
    {
      "cell_type": "code",
      "source": [
        "#false positive rate\n",
        "false_positive_rate=FP/(FP+TN)\n",
        "print('false positive rate is {0:0.4f}'.format(false_positive_rate))"
      ],
      "metadata": {
        "colab": {
          "base_uri": "https://localhost:8080/"
        },
        "id": "ayyk95ATqtlk",
        "outputId": "f5ee0c69-6af9-4639-b2da-3805eb35d07b"
      },
      "execution_count": 62,
      "outputs": [
        {
          "output_type": "stream",
          "name": "stdout",
          "text": [
            "false positive rate is 0.0688\n"
          ]
        }
      ]
    },
    {
      "cell_type": "code",
      "source": [
        "specificity=TN/(TN+FP)\n",
        "print('Specificity:{0:0.4f}'.format(specificity))"
      ],
      "metadata": {
        "colab": {
          "base_uri": "https://localhost:8080/"
        },
        "id": "z3JY7CiNrDrD",
        "outputId": "84c03362-44ad-4cf9-e558-2be4c575ab9f"
      },
      "execution_count": 63,
      "outputs": [
        {
          "output_type": "stream",
          "name": "stdout",
          "text": [
            "Specificity:0.9312\n"
          ]
        }
      ]
    },
    {
      "cell_type": "markdown",
      "metadata": {
        "id": "B3TUOJVfVzRu"
      },
      "source": [
        "# **Results and conclusion** \n",
        "\n",
        "\n",
        "\n",
        "1. There are outliers in our dataset. So, as we increase the value of C to limit fewer outliers, the accuracy increased. This is true with different kinds of kernels.\n",
        "\n",
        "2.\tWe get maximum accuracy with `rbf` and `linear` kernel with C=100.0 and the accuracy is 0.9832. So, we can conclude that our model is doing a very good job in terms of predicting the class labels. But, this is not true. Here, we have an imbalanced dataset. Accuracy is an inadequate measure for quantifying predictive performance in the imbalanced dataset problem. So, we must explore `confusion matrix` that provide better guidance in selecting models. "
      ]
    },
    {
      "cell_type": "code",
      "source": [
        ""
      ],
      "metadata": {
        "id": "3Vh0X5trrbc0"
      },
      "execution_count": null,
      "outputs": []
    }
  ]
}